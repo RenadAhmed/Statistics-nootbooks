{
 "cells": [
  {
   "cell_type": "code",
   "execution_count": null,
   "id": "1aca8fad",
   "metadata": {
    "papermill": {
     "duration": 0.051264,
     "end_time": "2023-11-22T19:21:43.931541",
     "exception": false,
     "start_time": "2023-11-22T19:21:43.880277",
     "status": "completed"
    },
    "tags": []
   },
   "outputs": [],
   "source": []
  },
  {
   "cell_type": "code",
   "execution_count": null,
   "id": "53d8b69a",
   "metadata": {
    "papermill": {
     "duration": 0.042028,
     "end_time": "2023-11-22T19:21:44.018084",
     "exception": false,
     "start_time": "2023-11-22T19:21:43.976056",
     "status": "completed"
    },
    "tags": []
   },
   "outputs": [],
   "source": []
  },
  {
   "cell_type": "markdown",
   "id": "b1af0df4",
   "metadata": {
    "papermill": {
     "duration": 0.097849,
     "end_time": "2023-11-22T19:21:44.157883",
     "exception": false,
     "start_time": "2023-11-22T19:21:44.060034",
     "status": "completed"
    },
    "tags": []
   },
   "source": [
    "### 911 call data from [Kaggle](https://www.kaggle.com/mchirico/montcoalert). \n",
    "#### The data contains the following fields:\n",
    "\n",
    "* lat : Latitude\n",
    "* lng:  Longitude\n",
    "* desc: Description of the Emergency Call\n",
    "* zip:  Zipcode\n",
    "* title:Title\n",
    "* timeStamp: YYYY-MM-DD HH:MM:SS\n",
    "* twp: Township\n",
    "* addr: Address\n",
    "* e: Dummy variable (always 1)"
   ]
  },
  {
   "cell_type": "code",
   "execution_count": null,
   "id": "55adc2e8",
   "metadata": {
    "papermill": {
     "duration": 0.041427,
     "end_time": "2023-11-22T19:21:44.241541",
     "exception": false,
     "start_time": "2023-11-22T19:21:44.200114",
     "status": "completed"
    },
    "tags": []
   },
   "outputs": [],
   "source": []
  },
  {
   "cell_type": "markdown",
   "id": "2e5b9fc0",
   "metadata": {
    "papermill": {
     "duration": 0.04142,
     "end_time": "2023-11-22T19:21:44.324169",
     "exception": false,
     "start_time": "2023-11-22T19:21:44.282749",
     "status": "completed"
    },
    "tags": []
   },
   "source": [
    "### Import numpy, pandas and visualization libraries"
   ]
  },
  {
   "cell_type": "code",
   "execution_count": 1,
   "id": "17e5255c",
   "metadata": {
    "execution": {
     "iopub.execute_input": "2023-11-22T19:21:44.410845Z",
     "iopub.status.busy": "2023-11-22T19:21:44.409968Z",
     "iopub.status.idle": "2023-11-22T19:21:46.002978Z",
     "shell.execute_reply": "2023-11-22T19:21:46.001826Z"
    },
    "papermill": {
     "duration": 1.640385,
     "end_time": "2023-11-22T19:21:46.005891",
     "exception": false,
     "start_time": "2023-11-22T19:21:44.365506",
     "status": "completed"
    },
    "tags": []
   },
   "outputs": [],
   "source": [
    "\n",
    "import matplotlib.pyplot as plt\n",
    "import seaborn as sns\n",
    "import pandas as pd\n",
    "import numpy as np\n",
    "import scipy as sp\n",
    "%matplotlib inline"
   ]
  },
  {
   "cell_type": "markdown",
   "id": "1d4f1a2b",
   "metadata": {
    "papermill": {
     "duration": 0.042702,
     "end_time": "2023-11-22T19:21:46.091797",
     "exception": false,
     "start_time": "2023-11-22T19:21:46.049095",
     "status": "completed"
    },
    "tags": []
   },
   "source": [
    "### Read in the 911.csv file as a dataframe"
   ]
  },
  {
   "cell_type": "code",
   "execution_count": 2,
   "id": "3422eea5",
   "metadata": {
    "execution": {
     "iopub.execute_input": "2023-11-22T19:21:46.178343Z",
     "iopub.status.busy": "2023-11-22T19:21:46.177804Z",
     "iopub.status.idle": "2023-11-22T19:21:46.794947Z",
     "shell.execute_reply": "2023-11-22T19:21:46.793917Z"
    },
    "papermill": {
     "duration": 0.6637,
     "end_time": "2023-11-22T19:21:46.797978",
     "exception": false,
     "start_time": "2023-11-22T19:21:46.134278",
     "status": "completed"
    },
    "tags": []
   },
   "outputs": [],
   "source": [
    "df_emer=pd.read_csv('/kaggle/input/emergency-911/911 - 911.csv')"
   ]
  },
  {
   "cell_type": "markdown",
   "id": "87b0926e",
   "metadata": {
    "papermill": {
     "duration": 0.042288,
     "end_time": "2023-11-22T19:21:46.883548",
     "exception": false,
     "start_time": "2023-11-22T19:21:46.841260",
     "status": "completed"
    },
    "tags": []
   },
   "source": [
    "### Check the info() of the df"
   ]
  },
  {
   "cell_type": "code",
   "execution_count": 3,
   "id": "489ffe92",
   "metadata": {
    "execution": {
     "iopub.execute_input": "2023-11-22T19:21:46.971367Z",
     "iopub.status.busy": "2023-11-22T19:21:46.970953Z",
     "iopub.status.idle": "2023-11-22T19:21:47.052904Z",
     "shell.execute_reply": "2023-11-22T19:21:47.051455Z"
    },
    "papermill": {
     "duration": 0.129588,
     "end_time": "2023-11-22T19:21:47.055722",
     "exception": false,
     "start_time": "2023-11-22T19:21:46.926134",
     "status": "completed"
    },
    "tags": []
   },
   "outputs": [
    {
     "name": "stdout",
     "output_type": "stream",
     "text": [
      "<class 'pandas.core.frame.DataFrame'>\n",
      "RangeIndex: 99492 entries, 0 to 99491\n",
      "Data columns (total 9 columns):\n",
      " #   Column     Non-Null Count  Dtype  \n",
      "---  ------     --------------  -----  \n",
      " 0   lat        99492 non-null  float64\n",
      " 1   lng        99492 non-null  float64\n",
      " 2   desc       99492 non-null  object \n",
      " 3   zip        86637 non-null  float64\n",
      " 4   title      99492 non-null  object \n",
      " 5   timeStamp  99492 non-null  object \n",
      " 6   twp        99449 non-null  object \n",
      " 7   addr       98973 non-null  object \n",
      " 8   e          99492 non-null  int64  \n",
      "dtypes: float64(3), int64(1), object(5)\n",
      "memory usage: 6.8+ MB\n"
     ]
    }
   ],
   "source": [
    "df_emer.info()"
   ]
  },
  {
   "cell_type": "code",
   "execution_count": null,
   "id": "0562cac9",
   "metadata": {
    "papermill": {
     "duration": 0.041501,
     "end_time": "2023-11-22T19:21:47.139203",
     "exception": false,
     "start_time": "2023-11-22T19:21:47.097702",
     "status": "completed"
    },
    "tags": []
   },
   "outputs": [],
   "source": []
  },
  {
   "cell_type": "markdown",
   "id": "b77200e4",
   "metadata": {
    "papermill": {
     "duration": 0.041482,
     "end_time": "2023-11-22T19:21:47.222666",
     "exception": false,
     "start_time": "2023-11-22T19:21:47.181184",
     "status": "completed"
    },
    "tags": []
   },
   "source": [
    "### Check the head of df "
   ]
  },
  {
   "cell_type": "code",
   "execution_count": 4,
   "id": "17d369e5",
   "metadata": {
    "execution": {
     "iopub.execute_input": "2023-11-22T19:21:47.307223Z",
     "iopub.status.busy": "2023-11-22T19:21:47.306856Z",
     "iopub.status.idle": "2023-11-22T19:21:47.326729Z",
     "shell.execute_reply": "2023-11-22T19:21:47.325670Z"
    },
    "papermill": {
     "duration": 0.065419,
     "end_time": "2023-11-22T19:21:47.329019",
     "exception": false,
     "start_time": "2023-11-22T19:21:47.263600",
     "status": "completed"
    },
    "tags": []
   },
   "outputs": [
    {
     "data": {
      "text/html": [
       "<div>\n",
       "<style scoped>\n",
       "    .dataframe tbody tr th:only-of-type {\n",
       "        vertical-align: middle;\n",
       "    }\n",
       "\n",
       "    .dataframe tbody tr th {\n",
       "        vertical-align: top;\n",
       "    }\n",
       "\n",
       "    .dataframe thead th {\n",
       "        text-align: right;\n",
       "    }\n",
       "</style>\n",
       "<table border=\"1\" class=\"dataframe\">\n",
       "  <thead>\n",
       "    <tr style=\"text-align: right;\">\n",
       "      <th></th>\n",
       "      <th>lat</th>\n",
       "      <th>lng</th>\n",
       "      <th>desc</th>\n",
       "      <th>zip</th>\n",
       "      <th>title</th>\n",
       "      <th>timeStamp</th>\n",
       "      <th>twp</th>\n",
       "      <th>addr</th>\n",
       "      <th>e</th>\n",
       "    </tr>\n",
       "  </thead>\n",
       "  <tbody>\n",
       "    <tr>\n",
       "      <th>0</th>\n",
       "      <td>40.297876</td>\n",
       "      <td>-75.581294</td>\n",
       "      <td>REINDEER CT &amp; DEAD END;  NEW HANOVER; Station ...</td>\n",
       "      <td>19525.0</td>\n",
       "      <td>EMS: BACK PAINS/INJURY</td>\n",
       "      <td>2015-12-10 17:40:00</td>\n",
       "      <td>NEW HANOVER</td>\n",
       "      <td>REINDEER CT &amp; DEAD END</td>\n",
       "      <td>1</td>\n",
       "    </tr>\n",
       "    <tr>\n",
       "      <th>1</th>\n",
       "      <td>40.258061</td>\n",
       "      <td>-75.264680</td>\n",
       "      <td>BRIAR PATH &amp; WHITEMARSH LN;  HATFIELD TOWNSHIP...</td>\n",
       "      <td>19446.0</td>\n",
       "      <td>EMS: DIABETIC EMERGENCY</td>\n",
       "      <td>2015-12-10 17:40:00</td>\n",
       "      <td>HATFIELD TOWNSHIP</td>\n",
       "      <td>BRIAR PATH &amp; WHITEMARSH LN</td>\n",
       "      <td>1</td>\n",
       "    </tr>\n",
       "    <tr>\n",
       "      <th>2</th>\n",
       "      <td>40.121182</td>\n",
       "      <td>-75.351975</td>\n",
       "      <td>HAWS AVE; NORRISTOWN; 2015-12-10 @ 14:39:21-St...</td>\n",
       "      <td>19401.0</td>\n",
       "      <td>Fire: GAS-ODOR/LEAK</td>\n",
       "      <td>2015-12-10 17:40:00</td>\n",
       "      <td>NORRISTOWN</td>\n",
       "      <td>HAWS AVE</td>\n",
       "      <td>1</td>\n",
       "    </tr>\n",
       "    <tr>\n",
       "      <th>3</th>\n",
       "      <td>40.116153</td>\n",
       "      <td>-75.343513</td>\n",
       "      <td>AIRY ST &amp; SWEDE ST;  NORRISTOWN; Station 308A;...</td>\n",
       "      <td>19401.0</td>\n",
       "      <td>EMS: CARDIAC EMERGENCY</td>\n",
       "      <td>2015-12-10 17:40:01</td>\n",
       "      <td>NORRISTOWN</td>\n",
       "      <td>AIRY ST &amp; SWEDE ST</td>\n",
       "      <td>1</td>\n",
       "    </tr>\n",
       "    <tr>\n",
       "      <th>4</th>\n",
       "      <td>40.251492</td>\n",
       "      <td>-75.603350</td>\n",
       "      <td>CHERRYWOOD CT &amp; DEAD END;  LOWER POTTSGROVE; S...</td>\n",
       "      <td>NaN</td>\n",
       "      <td>EMS: DIZZINESS</td>\n",
       "      <td>2015-12-10 17:40:01</td>\n",
       "      <td>LOWER POTTSGROVE</td>\n",
       "      <td>CHERRYWOOD CT &amp; DEAD END</td>\n",
       "      <td>1</td>\n",
       "    </tr>\n",
       "  </tbody>\n",
       "</table>\n",
       "</div>"
      ],
      "text/plain": [
       "         lat        lng                                               desc  \\\n",
       "0  40.297876 -75.581294  REINDEER CT & DEAD END;  NEW HANOVER; Station ...   \n",
       "1  40.258061 -75.264680  BRIAR PATH & WHITEMARSH LN;  HATFIELD TOWNSHIP...   \n",
       "2  40.121182 -75.351975  HAWS AVE; NORRISTOWN; 2015-12-10 @ 14:39:21-St...   \n",
       "3  40.116153 -75.343513  AIRY ST & SWEDE ST;  NORRISTOWN; Station 308A;...   \n",
       "4  40.251492 -75.603350  CHERRYWOOD CT & DEAD END;  LOWER POTTSGROVE; S...   \n",
       "\n",
       "       zip                    title            timeStamp                twp  \\\n",
       "0  19525.0   EMS: BACK PAINS/INJURY  2015-12-10 17:40:00        NEW HANOVER   \n",
       "1  19446.0  EMS: DIABETIC EMERGENCY  2015-12-10 17:40:00  HATFIELD TOWNSHIP   \n",
       "2  19401.0      Fire: GAS-ODOR/LEAK  2015-12-10 17:40:00         NORRISTOWN   \n",
       "3  19401.0   EMS: CARDIAC EMERGENCY  2015-12-10 17:40:01         NORRISTOWN   \n",
       "4      NaN           EMS: DIZZINESS  2015-12-10 17:40:01   LOWER POTTSGROVE   \n",
       "\n",
       "                         addr  e  \n",
       "0      REINDEER CT & DEAD END  1  \n",
       "1  BRIAR PATH & WHITEMARSH LN  1  \n",
       "2                    HAWS AVE  1  \n",
       "3          AIRY ST & SWEDE ST  1  \n",
       "4    CHERRYWOOD CT & DEAD END  1  "
      ]
     },
     "execution_count": 4,
     "metadata": {},
     "output_type": "execute_result"
    }
   ],
   "source": [
    "df_emer.head()"
   ]
  },
  {
   "cell_type": "code",
   "execution_count": null,
   "id": "f52af966",
   "metadata": {
    "papermill": {
     "duration": 0.042441,
     "end_time": "2023-11-22T19:21:47.414632",
     "exception": false,
     "start_time": "2023-11-22T19:21:47.372191",
     "status": "completed"
    },
    "tags": []
   },
   "outputs": [],
   "source": []
  },
  {
   "cell_type": "markdown",
   "id": "5638d721",
   "metadata": {
    "papermill": {
     "duration": 0.04216,
     "end_time": "2023-11-22T19:21:47.499666",
     "exception": false,
     "start_time": "2023-11-22T19:21:47.457506",
     "status": "completed"
    },
    "tags": []
   },
   "source": [
    "### Get the descriptive statistics of the df"
   ]
  },
  {
   "cell_type": "code",
   "execution_count": 5,
   "id": "4f4ce017",
   "metadata": {
    "execution": {
     "iopub.execute_input": "2023-11-22T19:21:47.589450Z",
     "iopub.status.busy": "2023-11-22T19:21:47.588500Z",
     "iopub.status.idle": "2023-11-22T19:21:47.632317Z",
     "shell.execute_reply": "2023-11-22T19:21:47.631193Z"
    },
    "papermill": {
     "duration": 0.091256,
     "end_time": "2023-11-22T19:21:47.634868",
     "exception": false,
     "start_time": "2023-11-22T19:21:47.543612",
     "status": "completed"
    },
    "tags": []
   },
   "outputs": [
    {
     "data": {
      "text/html": [
       "<div>\n",
       "<style scoped>\n",
       "    .dataframe tbody tr th:only-of-type {\n",
       "        vertical-align: middle;\n",
       "    }\n",
       "\n",
       "    .dataframe tbody tr th {\n",
       "        vertical-align: top;\n",
       "    }\n",
       "\n",
       "    .dataframe thead th {\n",
       "        text-align: right;\n",
       "    }\n",
       "</style>\n",
       "<table border=\"1\" class=\"dataframe\">\n",
       "  <thead>\n",
       "    <tr style=\"text-align: right;\">\n",
       "      <th></th>\n",
       "      <th>lat</th>\n",
       "      <th>lng</th>\n",
       "      <th>zip</th>\n",
       "      <th>e</th>\n",
       "    </tr>\n",
       "  </thead>\n",
       "  <tbody>\n",
       "    <tr>\n",
       "      <th>count</th>\n",
       "      <td>99492.000000</td>\n",
       "      <td>99492.000000</td>\n",
       "      <td>86637.000000</td>\n",
       "      <td>99492.0</td>\n",
       "    </tr>\n",
       "    <tr>\n",
       "      <th>mean</th>\n",
       "      <td>40.159526</td>\n",
       "      <td>-75.317464</td>\n",
       "      <td>19237.658298</td>\n",
       "      <td>1.0</td>\n",
       "    </tr>\n",
       "    <tr>\n",
       "      <th>std</th>\n",
       "      <td>0.094446</td>\n",
       "      <td>0.174826</td>\n",
       "      <td>345.344914</td>\n",
       "      <td>0.0</td>\n",
       "    </tr>\n",
       "    <tr>\n",
       "      <th>min</th>\n",
       "      <td>30.333596</td>\n",
       "      <td>-95.595595</td>\n",
       "      <td>17752.000000</td>\n",
       "      <td>1.0</td>\n",
       "    </tr>\n",
       "    <tr>\n",
       "      <th>25%</th>\n",
       "      <td>40.100423</td>\n",
       "      <td>-75.392104</td>\n",
       "      <td>19038.000000</td>\n",
       "      <td>1.0</td>\n",
       "    </tr>\n",
       "    <tr>\n",
       "      <th>50%</th>\n",
       "      <td>40.145223</td>\n",
       "      <td>-75.304667</td>\n",
       "      <td>19401.000000</td>\n",
       "      <td>1.0</td>\n",
       "    </tr>\n",
       "    <tr>\n",
       "      <th>75%</th>\n",
       "      <td>40.229008</td>\n",
       "      <td>-75.212513</td>\n",
       "      <td>19446.000000</td>\n",
       "      <td>1.0</td>\n",
       "    </tr>\n",
       "    <tr>\n",
       "      <th>max</th>\n",
       "      <td>41.167156</td>\n",
       "      <td>-74.995041</td>\n",
       "      <td>77316.000000</td>\n",
       "      <td>1.0</td>\n",
       "    </tr>\n",
       "  </tbody>\n",
       "</table>\n",
       "</div>"
      ],
      "text/plain": [
       "                lat           lng           zip        e\n",
       "count  99492.000000  99492.000000  86637.000000  99492.0\n",
       "mean      40.159526    -75.317464  19237.658298      1.0\n",
       "std        0.094446      0.174826    345.344914      0.0\n",
       "min       30.333596    -95.595595  17752.000000      1.0\n",
       "25%       40.100423    -75.392104  19038.000000      1.0\n",
       "50%       40.145223    -75.304667  19401.000000      1.0\n",
       "75%       40.229008    -75.212513  19446.000000      1.0\n",
       "max       41.167156    -74.995041  77316.000000      1.0"
      ]
     },
     "execution_count": 5,
     "metadata": {},
     "output_type": "execute_result"
    }
   ],
   "source": [
    "df_emer.describe()"
   ]
  },
  {
   "cell_type": "code",
   "execution_count": null,
   "id": "42d929ca",
   "metadata": {
    "papermill": {
     "duration": 0.042559,
     "end_time": "2023-11-22T19:21:47.719552",
     "exception": false,
     "start_time": "2023-11-22T19:21:47.676993",
     "status": "completed"
    },
    "tags": []
   },
   "outputs": [],
   "source": []
  },
  {
   "cell_type": "markdown",
   "id": "73300a7a",
   "metadata": {
    "papermill": {
     "duration": 0.04222,
     "end_time": "2023-11-22T19:21:47.804436",
     "exception": false,
     "start_time": "2023-11-22T19:21:47.762216",
     "status": "completed"
    },
    "tags": []
   },
   "source": [
    "### Answer the following questions:"
   ]
  },
  {
   "cell_type": "markdown",
   "id": "0211d3a3",
   "metadata": {
    "papermill": {
     "duration": 0.04173,
     "end_time": "2023-11-22T19:21:47.889804",
     "exception": false,
     "start_time": "2023-11-22T19:21:47.848074",
     "status": "completed"
    },
    "tags": []
   },
   "source": [
    "#### What are the top 5 zipcodes for 911 calls?\n",
    "##### Hint: Use value_counts()"
   ]
  },
  {
   "cell_type": "code",
   "execution_count": 6,
   "id": "02deca7c",
   "metadata": {
    "execution": {
     "iopub.execute_input": "2023-11-22T19:21:47.979121Z",
     "iopub.status.busy": "2023-11-22T19:21:47.978341Z",
     "iopub.status.idle": "2023-11-22T19:21:47.989149Z",
     "shell.execute_reply": "2023-11-22T19:21:47.988189Z"
    },
    "papermill": {
     "duration": 0.058192,
     "end_time": "2023-11-22T19:21:47.991242",
     "exception": false,
     "start_time": "2023-11-22T19:21:47.933050",
     "status": "completed"
    },
    "tags": []
   },
   "outputs": [
    {
     "data": {
      "text/plain": [
       "zip\n",
       "19401.0    6979\n",
       "19464.0    6643\n",
       "19403.0    4854\n",
       "19446.0    4748\n",
       "19406.0    3174\n",
       "Name: count, dtype: int64"
      ]
     },
     "execution_count": 6,
     "metadata": {},
     "output_type": "execute_result"
    }
   ],
   "source": [
    "top=df_emer['zip'].value_counts().head()\n",
    "top"
   ]
  },
  {
   "cell_type": "code",
   "execution_count": null,
   "id": "eabae5f4",
   "metadata": {
    "papermill": {
     "duration": 0.042132,
     "end_time": "2023-11-22T19:21:48.076527",
     "exception": false,
     "start_time": "2023-11-22T19:21:48.034395",
     "status": "completed"
    },
    "tags": []
   },
   "outputs": [],
   "source": []
  },
  {
   "cell_type": "markdown",
   "id": "22750b7d",
   "metadata": {
    "papermill": {
     "duration": 0.04234,
     "end_time": "2023-11-22T19:21:48.160442",
     "exception": false,
     "start_time": "2023-11-22T19:21:48.118102",
     "status": "completed"
    },
    "tags": []
   },
   "source": [
    "#### What are the top 5 townships (twp) for 911 calls?\n",
    "##### Visualize your results."
   ]
  },
  {
   "cell_type": "code",
   "execution_count": 7,
   "id": "da4962ca",
   "metadata": {
    "execution": {
     "iopub.execute_input": "2023-11-22T19:21:48.246545Z",
     "iopub.status.busy": "2023-11-22T19:21:48.245830Z",
     "iopub.status.idle": "2023-11-22T19:21:48.267828Z",
     "shell.execute_reply": "2023-11-22T19:21:48.266870Z"
    },
    "papermill": {
     "duration": 0.067212,
     "end_time": "2023-11-22T19:21:48.270012",
     "exception": false,
     "start_time": "2023-11-22T19:21:48.202800",
     "status": "completed"
    },
    "tags": []
   },
   "outputs": [
    {
     "data": {
      "text/plain": [
       "zip\n",
       "19401.0    6979\n",
       "19464.0    6643\n",
       "19403.0    4854\n",
       "19446.0    4748\n",
       "19406.0    3174\n",
       "Name: count, dtype: int64"
      ]
     },
     "execution_count": 7,
     "metadata": {},
     "output_type": "execute_result"
    }
   ],
   "source": [
    "top_twp=df_emer['twp'].value_counts().head()\n",
    "top"
   ]
  },
  {
   "cell_type": "code",
   "execution_count": null,
   "id": "e382e9af",
   "metadata": {
    "papermill": {
     "duration": 0.043055,
     "end_time": "2023-11-22T19:21:48.355113",
     "exception": false,
     "start_time": "2023-11-22T19:21:48.312058",
     "status": "completed"
    },
    "tags": []
   },
   "outputs": [],
   "source": []
  },
  {
   "cell_type": "code",
   "execution_count": 8,
   "id": "ae5c0301",
   "metadata": {
    "execution": {
     "iopub.execute_input": "2023-11-22T19:21:48.443619Z",
     "iopub.status.busy": "2023-11-22T19:21:48.443200Z",
     "iopub.status.idle": "2023-11-22T19:21:48.832160Z",
     "shell.execute_reply": "2023-11-22T19:21:48.831114Z"
    },
    "papermill": {
     "duration": 0.436485,
     "end_time": "2023-11-22T19:21:48.834930",
     "exception": false,
     "start_time": "2023-11-22T19:21:48.398445",
     "status": "completed"
    },
    "tags": []
   },
   "outputs": [
    {
     "data": {
      "text/plain": [
       "<Axes: xlabel='twp'>"
      ]
     },
     "execution_count": 8,
     "metadata": {},
     "output_type": "execute_result"
    },
    {
     "data": {
      "image/png": "[encoded data removed]",
      "text/plain": [
       "<Figure size 640x480 with 1 Axes>"
      ]
     },
     "metadata": {},
     "output_type": "display_data"
    }
   ],
   "source": [
    "top_twp.plot(kind='bar')"
   ]
  },
  {
   "cell_type": "code",
   "execution_count": 9,
   "id": "c30e1415",
   "metadata": {
    "execution": {
     "iopub.execute_input": "2023-11-22T19:21:48.925436Z",
     "iopub.status.busy": "2023-11-22T19:21:48.925025Z",
     "iopub.status.idle": "2023-11-22T19:21:48.940444Z",
     "shell.execute_reply": "2023-11-22T19:21:48.939376Z"
    },
    "papermill": {
     "duration": 0.062393,
     "end_time": "2023-11-22T19:21:48.942503",
     "exception": false,
     "start_time": "2023-11-22T19:21:48.880110",
     "status": "completed"
    },
    "tags": []
   },
   "outputs": [
    {
     "data": {
      "text/html": [
       "<div>\n",
       "<style scoped>\n",
       "    .dataframe tbody tr th:only-of-type {\n",
       "        vertical-align: middle;\n",
       "    }\n",
       "\n",
       "    .dataframe tbody tr th {\n",
       "        vertical-align: top;\n",
       "    }\n",
       "\n",
       "    .dataframe thead th {\n",
       "        text-align: right;\n",
       "    }\n",
       "</style>\n",
       "<table border=\"1\" class=\"dataframe\">\n",
       "  <thead>\n",
       "    <tr style=\"text-align: right;\">\n",
       "      <th></th>\n",
       "      <th>lat</th>\n",
       "      <th>lng</th>\n",
       "      <th>desc</th>\n",
       "      <th>zip</th>\n",
       "      <th>title</th>\n",
       "      <th>timeStamp</th>\n",
       "      <th>twp</th>\n",
       "      <th>addr</th>\n",
       "      <th>e</th>\n",
       "    </tr>\n",
       "  </thead>\n",
       "  <tbody>\n",
       "    <tr>\n",
       "      <th>0</th>\n",
       "      <td>40.297876</td>\n",
       "      <td>-75.581294</td>\n",
       "      <td>REINDEER CT &amp; DEAD END;  NEW HANOVER; Station ...</td>\n",
       "      <td>19525.0</td>\n",
       "      <td>EMS: BACK PAINS/INJURY</td>\n",
       "      <td>2015-12-10 17:40:00</td>\n",
       "      <td>NEW HANOVER</td>\n",
       "      <td>REINDEER CT &amp; DEAD END</td>\n",
       "      <td>1</td>\n",
       "    </tr>\n",
       "    <tr>\n",
       "      <th>1</th>\n",
       "      <td>40.258061</td>\n",
       "      <td>-75.264680</td>\n",
       "      <td>BRIAR PATH &amp; WHITEMARSH LN;  HATFIELD TOWNSHIP...</td>\n",
       "      <td>19446.0</td>\n",
       "      <td>EMS: DIABETIC EMERGENCY</td>\n",
       "      <td>2015-12-10 17:40:00</td>\n",
       "      <td>HATFIELD TOWNSHIP</td>\n",
       "      <td>BRIAR PATH &amp; WHITEMARSH LN</td>\n",
       "      <td>1</td>\n",
       "    </tr>\n",
       "    <tr>\n",
       "      <th>2</th>\n",
       "      <td>40.121182</td>\n",
       "      <td>-75.351975</td>\n",
       "      <td>HAWS AVE; NORRISTOWN; 2015-12-10 @ 14:39:21-St...</td>\n",
       "      <td>19401.0</td>\n",
       "      <td>Fire: GAS-ODOR/LEAK</td>\n",
       "      <td>2015-12-10 17:40:00</td>\n",
       "      <td>NORRISTOWN</td>\n",
       "      <td>HAWS AVE</td>\n",
       "      <td>1</td>\n",
       "    </tr>\n",
       "    <tr>\n",
       "      <th>3</th>\n",
       "      <td>40.116153</td>\n",
       "      <td>-75.343513</td>\n",
       "      <td>AIRY ST &amp; SWEDE ST;  NORRISTOWN; Station 308A;...</td>\n",
       "      <td>19401.0</td>\n",
       "      <td>EMS: CARDIAC EMERGENCY</td>\n",
       "      <td>2015-12-10 17:40:01</td>\n",
       "      <td>NORRISTOWN</td>\n",
       "      <td>AIRY ST &amp; SWEDE ST</td>\n",
       "      <td>1</td>\n",
       "    </tr>\n",
       "    <tr>\n",
       "      <th>4</th>\n",
       "      <td>40.251492</td>\n",
       "      <td>-75.603350</td>\n",
       "      <td>CHERRYWOOD CT &amp; DEAD END;  LOWER POTTSGROVE; S...</td>\n",
       "      <td>NaN</td>\n",
       "      <td>EMS: DIZZINESS</td>\n",
       "      <td>2015-12-10 17:40:01</td>\n",
       "      <td>LOWER POTTSGROVE</td>\n",
       "      <td>CHERRYWOOD CT &amp; DEAD END</td>\n",
       "      <td>1</td>\n",
       "    </tr>\n",
       "  </tbody>\n",
       "</table>\n",
       "</div>"
      ],
      "text/plain": [
       "         lat        lng                                               desc  \\\n",
       "0  40.297876 -75.581294  REINDEER CT & DEAD END;  NEW HANOVER; Station ...   \n",
       "1  40.258061 -75.264680  BRIAR PATH & WHITEMARSH LN;  HATFIELD TOWNSHIP...   \n",
       "2  40.121182 -75.351975  HAWS AVE; NORRISTOWN; 2015-12-10 @ 14:39:21-St...   \n",
       "3  40.116153 -75.343513  AIRY ST & SWEDE ST;  NORRISTOWN; Station 308A;...   \n",
       "4  40.251492 -75.603350  CHERRYWOOD CT & DEAD END;  LOWER POTTSGROVE; S...   \n",
       "\n",
       "       zip                    title            timeStamp                twp  \\\n",
       "0  19525.0   EMS: BACK PAINS/INJURY  2015-12-10 17:40:00        NEW HANOVER   \n",
       "1  19446.0  EMS: DIABETIC EMERGENCY  2015-12-10 17:40:00  HATFIELD TOWNSHIP   \n",
       "2  19401.0      Fire: GAS-ODOR/LEAK  2015-12-10 17:40:00         NORRISTOWN   \n",
       "3  19401.0   EMS: CARDIAC EMERGENCY  2015-12-10 17:40:01         NORRISTOWN   \n",
       "4      NaN           EMS: DIZZINESS  2015-12-10 17:40:01   LOWER POTTSGROVE   \n",
       "\n",
       "                         addr  e  \n",
       "0      REINDEER CT & DEAD END  1  \n",
       "1  BRIAR PATH & WHITEMARSH LN  1  \n",
       "2                    HAWS AVE  1  \n",
       "3          AIRY ST & SWEDE ST  1  \n",
       "4    CHERRYWOOD CT & DEAD END  1  "
      ]
     },
     "execution_count": 9,
     "metadata": {},
     "output_type": "execute_result"
    }
   ],
   "source": [
    "df_emer.head()"
   ]
  },
  {
   "cell_type": "code",
   "execution_count": null,
   "id": "c998fcde",
   "metadata": {
    "papermill": {
     "duration": 0.044319,
     "end_time": "2023-11-22T19:21:49.030481",
     "exception": false,
     "start_time": "2023-11-22T19:21:48.986162",
     "status": "completed"
    },
    "tags": []
   },
   "outputs": [],
   "source": []
  },
  {
   "cell_type": "code",
   "execution_count": null,
   "id": "f1a15fe8",
   "metadata": {
    "papermill": {
     "duration": 0.042317,
     "end_time": "2023-11-22T19:21:49.115594",
     "exception": false,
     "start_time": "2023-11-22T19:21:49.073277",
     "status": "completed"
    },
    "tags": []
   },
   "outputs": [],
   "source": []
  },
  {
   "cell_type": "markdown",
   "id": "2fc2edf1",
   "metadata": {
    "papermill": {
     "duration": 0.043295,
     "end_time": "2023-11-22T19:21:49.202022",
     "exception": false,
     "start_time": "2023-11-22T19:21:49.158727",
     "status": "completed"
    },
    "tags": []
   },
   "source": [
    "#### Take a look at the 'title' column, how many unique title codes are there?\n",
    "#### What are those titles?\n",
    "##### Hint: use unique() and nunique()"
   ]
  },
  {
   "cell_type": "code",
   "execution_count": 10,
   "id": "8be4224a",
   "metadata": {
    "execution": {
     "iopub.execute_input": "2023-11-22T19:21:49.289400Z",
     "iopub.status.busy": "2023-11-22T19:21:49.288913Z",
     "iopub.status.idle": "2023-11-22T19:21:49.306496Z",
     "shell.execute_reply": "2023-11-22T19:21:49.305384Z"
    },
    "papermill": {
     "duration": 0.068511,
     "end_time": "2023-11-22T19:21:49.313199",
     "exception": false,
     "start_time": "2023-11-22T19:21:49.244688",
     "status": "completed"
    },
    "tags": []
   },
   "outputs": [
    {
     "data": {
      "text/plain": [
       "110"
      ]
     },
     "execution_count": 10,
     "metadata": {},
     "output_type": "execute_result"
    }
   ],
   "source": [
    "num_uni=df_emer['title'].nunique()\n",
    "num_uni\n"
   ]
  },
  {
   "cell_type": "code",
   "execution_count": 11,
   "id": "d3806ffb",
   "metadata": {
    "execution": {
     "iopub.execute_input": "2023-11-22T19:21:49.404431Z",
     "iopub.status.busy": "2023-11-22T19:21:49.403971Z",
     "iopub.status.idle": "2023-11-22T19:21:49.422673Z",
     "shell.execute_reply": "2023-11-22T19:21:49.421480Z"
    },
    "papermill": {
     "duration": 0.067173,
     "end_time": "2023-11-22T19:21:49.425107",
     "exception": false,
     "start_time": "2023-11-22T19:21:49.357934",
     "status": "completed"
    },
    "tags": []
   },
   "outputs": [
    {
     "data": {
      "text/plain": [
       "array(['EMS: BACK PAINS/INJURY', 'EMS: DIABETIC EMERGENCY',\n",
       "       'Fire: GAS-ODOR/LEAK', 'EMS: CARDIAC EMERGENCY', 'EMS: DIZZINESS',\n",
       "       'EMS: HEAD INJURY', 'EMS: NAUSEA/VOMITING',\n",
       "       'EMS: RESPIRATORY EMERGENCY', 'EMS: SYNCOPAL EPISODE',\n",
       "       'Traffic: VEHICLE ACCIDENT -', 'EMS: VEHICLE ACCIDENT',\n",
       "       'Traffic: DISABLED VEHICLE -', 'Fire: APPLIANCE FIRE',\n",
       "       'EMS: GENERAL WEAKNESS', 'Fire: CARBON MONOXIDE DETECTOR',\n",
       "       'EMS: UNKNOWN MEDICAL EMERGENCY', 'EMS: UNRESPONSIVE SUBJECT',\n",
       "       'Fire: VEHICLE ACCIDENT', 'EMS: ALTERED MENTAL STATUS',\n",
       "       'Fire: FIRE ALARM', 'EMS: CVA/STROKE',\n",
       "       'Traffic: ROAD OBSTRUCTION -', 'EMS: SUBJECT IN PAIN',\n",
       "       'EMS: HEMORRHAGING', 'EMS: FALL VICTIM', 'EMS: ASSAULT VICTIM',\n",
       "       'EMS: SEIZURES', 'EMS: MEDICAL ALERT ALARM',\n",
       "       'EMS: ABDOMINAL PAINS', 'Fire: PUMP DETAIL',\n",
       "       'Fire: FIRE INVESTIGATION', 'EMS: OVERDOSE', 'EMS: MATERNITY',\n",
       "       'EMS: UNCONSCIOUS SUBJECT', 'EMS: CHOKING', 'EMS: LACERATIONS',\n",
       "       'Fire: TRASH/DUMPSTER FIRE', 'Fire: UNKNOWN TYPE FIRE',\n",
       "       'Fire: BUILDING FIRE', 'Fire: ELECTRICAL FIRE OUTSIDE',\n",
       "       'Fire: DEBRIS/FLUIDS ON HIGHWAY',\n",
       "       'Traffic: DEBRIS/FLUIDS ON HIGHWAY -', 'EMS: FEVER',\n",
       "       'EMS: ALLERGIC REACTION', 'Traffic: VEHICLE LEAKING FUEL -',\n",
       "       'EMS: FRACTURE', 'Fire: BURN VICTIM', 'EMS: BURN VICTIM',\n",
       "       'Fire: RESCUE - GENERAL', 'Fire: WOODS/FIELD FIRE',\n",
       "       'EMS: RESCUE - GENERAL', 'Fire: FIRE SPECIAL SERVICE',\n",
       "       'Fire: VEHICLE FIRE', 'Traffic: VEHICLE FIRE -',\n",
       "       'EMS: WARRANT SERVICE', 'Fire: S/B AT HELICOPTER LANDING',\n",
       "       'EMS: EMS SPECIAL SERVICE', 'Traffic: HAZARDOUS ROAD CONDITIONS -',\n",
       "       'Fire: RESCUE - ELEVATOR', 'EMS: FIRE SPECIAL SERVICE',\n",
       "       'EMS: DEHYDRATION', 'EMS: CARBON MONOXIDE DETECTOR',\n",
       "       'EMS: BUILDING FIRE', 'EMS: APPLIANCE FIRE', 'EMS: SHOOTING',\n",
       "       'EMS: POISONING', 'Fire: TRANSFERRED CALL',\n",
       "       'Fire: RESCUE - TECHNICAL', 'EMS: RESCUE - TECHNICAL',\n",
       "       'Fire: VEHICLE LEAKING FUEL', 'EMS: EYE INJURY',\n",
       "       'EMS: ELECTROCUTION', 'EMS: STABBING', 'Fire: FIRE POLICE NEEDED',\n",
       "       'EMS: AMPUTATION', 'EMS: ANIMAL BITE', 'EMS: FIRE ALARM',\n",
       "       'EMS: VEHICLE FIRE', 'EMS: HAZARDOUS MATERIALS INCIDENT',\n",
       "       'EMS: RESCUE - ELEVATOR', 'EMS: FIRE INVESTIGATION',\n",
       "       'Fire: MEDICAL ALERT ALARM', 'EMS: UNKNOWN TYPE FIRE',\n",
       "       'EMS: GAS-ODOR/LEAK', 'Fire: TRAIN CRASH',\n",
       "       'Fire: HAZARDOUS MATERIALS INCIDENT', 'EMS: TRANSFERRED CALL',\n",
       "       'EMS: TRAIN CRASH', 'EMS: RESCUE - WATER',\n",
       "       'EMS: S/B AT HELICOPTER LANDING',\n",
       "       'Fire: UNKNOWN MEDICAL EMERGENCY', 'Fire: RESCUE - WATER',\n",
       "       'EMS: CARDIAC ARREST', 'EMS: PLANE CRASH', 'Fire: PLANE CRASH',\n",
       "       'EMS: WOODS/FIELD FIRE', 'Fire: CARDIAC ARREST',\n",
       "       'Fire: EMS SPECIAL SERVICE', 'Fire: UNCONSCIOUS SUBJECT',\n",
       "       'EMS: HEAT EXHAUSTION', 'EMS: DEBRIS/FLUIDS ON HIGHWAY',\n",
       "       'EMS: ACTIVE SHOOTER', 'EMS: DISABLED VEHICLE',\n",
       "       'Fire: POLICE INFORMATION', 'Fire: DIABETIC EMERGENCY',\n",
       "       'EMS: BOMB DEVICE FOUND', 'Fire: SYNCOPAL EPISODE',\n",
       "       'EMS: INDUSTRIAL ACCIDENT', 'EMS: DROWNING', 'EMS: SUSPICIOUS'],\n",
       "      dtype=object)"
      ]
     },
     "execution_count": 11,
     "metadata": {},
     "output_type": "execute_result"
    }
   ],
   "source": [
    "num=df_emer['title'].unique()\n",
    "num"
   ]
  },
  {
   "cell_type": "code",
   "execution_count": null,
   "id": "42260b5f",
   "metadata": {
    "papermill": {
     "duration": 0.04527,
     "end_time": "2023-11-22T19:21:49.516437",
     "exception": false,
     "start_time": "2023-11-22T19:21:49.471167",
     "status": "completed"
    },
    "tags": []
   },
   "outputs": [],
   "source": []
  },
  {
   "cell_type": "code",
   "execution_count": null,
   "id": "2da73090",
   "metadata": {
    "papermill": {
     "duration": 0.04282,
     "end_time": "2023-11-22T19:21:49.603741",
     "exception": false,
     "start_time": "2023-11-22T19:21:49.560921",
     "status": "completed"
    },
    "tags": []
   },
   "outputs": [],
   "source": []
  },
  {
   "cell_type": "markdown",
   "id": "eb876733",
   "metadata": {
    "papermill": {
     "duration": 0.043131,
     "end_time": "2023-11-22T19:21:49.690564",
     "exception": false,
     "start_time": "2023-11-22T19:21:49.647433",
     "status": "completed"
    },
    "tags": []
   },
   "source": [
    "## Creating new features"
   ]
  },
  {
   "cell_type": "markdown",
   "id": "0da3cbd4",
   "metadata": {
    "papermill": {
     "duration": 0.044762,
     "end_time": "2023-11-22T19:21:49.780063",
     "exception": false,
     "start_time": "2023-11-22T19:21:49.735301",
     "status": "completed"
    },
    "tags": []
   },
   "source": [
    "- In the titles column there are \"Reasons/Departments\" specified before the title code. \n",
    "- These are <b>EMS, Fire, and Traffic</b>. \n",
    "- Use .apply() with a custom lambda expression to create a new column called \"Reason\" that contains these string values. \n",
    "- For example, if the title column value is <b>EMS: BACK PAINS/INJURY</b> , the Reason column value would be <b>EMS</b>.\n",
    "##### Hint: You can use split() function in the lambda expression."
   ]
  },
  {
   "cell_type": "code",
   "execution_count": 12,
   "id": "6249defe",
   "metadata": {
    "execution": {
     "iopub.execute_input": "2023-11-22T19:21:49.871821Z",
     "iopub.status.busy": "2023-11-22T19:21:49.871441Z",
     "iopub.status.idle": "2023-11-22T19:21:49.937853Z",
     "shell.execute_reply": "2023-11-22T19:21:49.936693Z"
    },
    "papermill": {
     "duration": 0.117015,
     "end_time": "2023-11-22T19:21:49.940737",
     "exception": false,
     "start_time": "2023-11-22T19:21:49.823722",
     "status": "completed"
    },
    "tags": []
   },
   "outputs": [],
   "source": [
    "df_emer['Reason']=df_emer['title'].apply(lambda x: x.split(':')[0])"
   ]
  },
  {
   "cell_type": "code",
   "execution_count": 13,
   "id": "0a07d8ba",
   "metadata": {
    "execution": {
     "iopub.execute_input": "2023-11-22T19:21:50.031398Z",
     "iopub.status.busy": "2023-11-22T19:21:50.030965Z",
     "iopub.status.idle": "2023-11-22T19:21:50.040535Z",
     "shell.execute_reply": "2023-11-22T19:21:50.039456Z"
    },
    "papermill": {
     "duration": 0.058266,
     "end_time": "2023-11-22T19:21:50.042656",
     "exception": false,
     "start_time": "2023-11-22T19:21:49.984390",
     "status": "completed"
    },
    "tags": []
   },
   "outputs": [
    {
     "data": {
      "text/plain": [
       "0             EMS: BACK PAINS/INJURY\n",
       "1            EMS: DIABETIC EMERGENCY\n",
       "2                Fire: GAS-ODOR/LEAK\n",
       "3             EMS: CARDIAC EMERGENCY\n",
       "4                     EMS: DIZZINESS\n",
       "                    ...             \n",
       "99487    Traffic: VEHICLE ACCIDENT -\n",
       "99488    Traffic: VEHICLE ACCIDENT -\n",
       "99489               EMS: FALL VICTIM\n",
       "99490           EMS: NAUSEA/VOMITING\n",
       "99491    Traffic: VEHICLE ACCIDENT -\n",
       "Name: title, Length: 99492, dtype: object"
      ]
     },
     "execution_count": 13,
     "metadata": {},
     "output_type": "execute_result"
    }
   ],
   "source": [
    "df_emer['title']"
   ]
  },
  {
   "cell_type": "code",
   "execution_count": null,
   "id": "0234ee18",
   "metadata": {
    "papermill": {
     "duration": 0.043894,
     "end_time": "2023-11-22T19:21:50.131395",
     "exception": false,
     "start_time": "2023-11-22T19:21:50.087501",
     "status": "completed"
    },
    "tags": []
   },
   "outputs": [],
   "source": []
  },
  {
   "cell_type": "code",
   "execution_count": 14,
   "id": "ee7031a1",
   "metadata": {
    "execution": {
     "iopub.execute_input": "2023-11-22T19:21:50.221216Z",
     "iopub.status.busy": "2023-11-22T19:21:50.220860Z",
     "iopub.status.idle": "2023-11-22T19:21:50.229498Z",
     "shell.execute_reply": "2023-11-22T19:21:50.228448Z"
    },
    "papermill": {
     "duration": 0.05639,
     "end_time": "2023-11-22T19:21:50.232014",
     "exception": false,
     "start_time": "2023-11-22T19:21:50.175624",
     "status": "completed"
    },
    "tags": []
   },
   "outputs": [
    {
     "data": {
      "text/plain": [
       "0            EMS\n",
       "1            EMS\n",
       "2           Fire\n",
       "3            EMS\n",
       "4            EMS\n",
       "          ...   \n",
       "99487    Traffic\n",
       "99488    Traffic\n",
       "99489        EMS\n",
       "99490        EMS\n",
       "99491    Traffic\n",
       "Name: Reason, Length: 99492, dtype: object"
      ]
     },
     "execution_count": 14,
     "metadata": {},
     "output_type": "execute_result"
    }
   ],
   "source": [
    "df_emer['Reason']"
   ]
  },
  {
   "cell_type": "code",
   "execution_count": null,
   "id": "3709c56d",
   "metadata": {
    "papermill": {
     "duration": 0.045303,
     "end_time": "2023-11-22T19:21:50.321245",
     "exception": false,
     "start_time": "2023-11-22T19:21:50.275942",
     "status": "completed"
    },
    "tags": []
   },
   "outputs": [],
   "source": []
  },
  {
   "cell_type": "markdown",
   "id": "d1ebd50a",
   "metadata": {
    "papermill": {
     "duration": 0.050876,
     "end_time": "2023-11-22T19:21:50.429060",
     "exception": false,
     "start_time": "2023-11-22T19:21:50.378184",
     "status": "completed"
    },
    "tags": []
   },
   "source": [
    "### What is the most common Reason for a 911 call based off of this new column? "
   ]
  },
  {
   "cell_type": "code",
   "execution_count": 15,
   "id": "e56213b0",
   "metadata": {
    "execution": {
     "iopub.execute_input": "2023-11-22T19:21:50.526402Z",
     "iopub.status.busy": "2023-11-22T19:21:50.525964Z",
     "iopub.status.idle": "2023-11-22T19:21:50.553645Z",
     "shell.execute_reply": "2023-11-22T19:21:50.552509Z"
    },
    "papermill": {
     "duration": 0.075504,
     "end_time": "2023-11-22T19:21:50.555958",
     "exception": false,
     "start_time": "2023-11-22T19:21:50.480454",
     "status": "completed"
    },
    "tags": []
   },
   "outputs": [
    {
     "data": {
      "text/plain": [
       "Reason\n",
       "EMS        48877\n",
       "Traffic    35695\n",
       "Fire       14920\n",
       "Name: count, dtype: int64"
      ]
     },
     "execution_count": 15,
     "metadata": {},
     "output_type": "execute_result"
    }
   ],
   "source": [
    "top_reason=df_emer['Reason'].value_counts()\n",
    "top_reason"
   ]
  },
  {
   "cell_type": "code",
   "execution_count": null,
   "id": "aeaa2938",
   "metadata": {
    "papermill": {
     "duration": 0.04295,
     "end_time": "2023-11-22T19:21:50.642531",
     "exception": false,
     "start_time": "2023-11-22T19:21:50.599581",
     "status": "completed"
    },
    "tags": []
   },
   "outputs": [],
   "source": []
  },
  {
   "cell_type": "markdown",
   "id": "520a44c7",
   "metadata": {
    "papermill": {
     "duration": 0.042681,
     "end_time": "2023-11-22T19:21:50.729951",
     "exception": false,
     "start_time": "2023-11-22T19:21:50.687270",
     "status": "completed"
    },
    "tags": []
   },
   "source": [
    "### Create a pie chart to see the percentage of each reason."
   ]
  },
  {
   "cell_type": "code",
   "execution_count": 16,
   "id": "e4ccfbed",
   "metadata": {
    "execution": {
     "iopub.execute_input": "2023-11-22T19:21:50.831358Z",
     "iopub.status.busy": "2023-11-22T19:21:50.830959Z",
     "iopub.status.idle": "2023-11-22T19:21:50.837992Z",
     "shell.execute_reply": "2023-11-22T19:21:50.837264Z"
    },
    "papermill": {
     "duration": 0.058816,
     "end_time": "2023-11-22T19:21:50.840062",
     "exception": false,
     "start_time": "2023-11-22T19:21:50.781246",
     "status": "completed"
    },
    "tags": []
   },
   "outputs": [
    {
     "data": {
      "text/plain": [
       "<bound method IndexOpsMixin.value_counts of 0            EMS\n",
       "1            EMS\n",
       "2           Fire\n",
       "3            EMS\n",
       "4            EMS\n",
       "          ...   \n",
       "99487    Traffic\n",
       "99488    Traffic\n",
       "99489        EMS\n",
       "99490        EMS\n",
       "99491    Traffic\n",
       "Name: Reason, Length: 99492, dtype: object>"
      ]
     },
     "execution_count": 16,
     "metadata": {},
     "output_type": "execute_result"
    }
   ],
   "source": [
    "count=df_emer['Reason'].value_counts\n",
    "count"
   ]
  },
  {
   "cell_type": "code",
   "execution_count": 17,
   "id": "c21ddee4",
   "metadata": {
    "execution": {
     "iopub.execute_input": "2023-11-22T19:21:50.932251Z",
     "iopub.status.busy": "2023-11-22T19:21:50.931848Z",
     "iopub.status.idle": "2023-11-22T19:21:50.947254Z",
     "shell.execute_reply": "2023-11-22T19:21:50.946160Z"
    },
    "papermill": {
     "duration": 0.063814,
     "end_time": "2023-11-22T19:21:50.949489",
     "exception": false,
     "start_time": "2023-11-22T19:21:50.885675",
     "status": "completed"
    },
    "tags": []
   },
   "outputs": [
    {
     "data": {
      "text/plain": [
       "array(['EMS', 'Fire', 'Traffic'], dtype=object)"
      ]
     },
     "execution_count": 17,
     "metadata": {},
     "output_type": "execute_result"
    }
   ],
   "source": [
    "labels=df_emer['Reason'].unique()\n",
    "labels"
   ]
  },
  {
   "cell_type": "code",
   "execution_count": 18,
   "id": "abd4a60f",
   "metadata": {
    "execution": {
     "iopub.execute_input": "2023-11-22T19:21:51.043402Z",
     "iopub.status.busy": "2023-11-22T19:21:51.042979Z",
     "iopub.status.idle": "2023-11-22T19:21:52.783743Z",
     "shell.execute_reply": "2023-11-22T19:21:52.782156Z"
    },
    "papermill": {
     "duration": 1.790782,
     "end_time": "2023-11-22T19:21:52.785868",
     "exception": true,
     "start_time": "2023-11-22T19:21:50.995086",
     "status": "failed"
    },
    "tags": []
   },
   "outputs": [
    {
     "ename": "TypeError",
     "evalue": "float() argument must be a string or a real number, not 'method'",
     "output_type": "error",
     "traceback": [
      "\u001b[0;31m---------------------------------------------------------------------------\u001b[0m",
      "\u001b[0;31mTypeError\u001b[0m                                 Traceback (most recent call last)",
      "Cell \u001b[0;32mIn[18], line 1\u001b[0m\n\u001b[0;32m----> 1\u001b[0m ax \u001b[38;5;241m=\u001b[39m \u001b[43mplt\u001b[49m\u001b[38;5;241;43m.\u001b[39;49m\u001b[43mpie\u001b[49m\u001b[43m(\u001b[49m\u001b[43mcount\u001b[49m\u001b[43m,\u001b[49m\u001b[43mlabels\u001b[49m\u001b[38;5;241;43m=\u001b[39;49m\u001b[43mlabels\u001b[49m\u001b[43m,\u001b[49m\u001b[43mautopct\u001b[49m\u001b[38;5;241;43m=\u001b[39;49m\u001b[38;5;124;43m'\u001b[39;49m\u001b[38;5;132;43;01m%1.1f\u001b[39;49;00m\u001b[38;5;132;43;01m%%\u001b[39;49;00m\u001b[38;5;124;43m'\u001b[39;49m\u001b[43m)\u001b[49m\n",
      "File \u001b[0;32m/opt/conda/lib/python3.10/site-packages/matplotlib/pyplot.py:2799\u001b[0m, in \u001b[0;36mpie\u001b[0;34m(x, explode, labels, colors, autopct, pctdistance, shadow, labeldistance, startangle, radius, counterclock, wedgeprops, textprops, center, frame, rotatelabels, normalize, hatch, data)\u001b[0m\n\u001b[1;32m   2792\u001b[0m \u001b[38;5;129m@_copy_docstring_and_deprecators\u001b[39m(Axes\u001b[38;5;241m.\u001b[39mpie)\n\u001b[1;32m   2793\u001b[0m \u001b[38;5;28;01mdef\u001b[39;00m \u001b[38;5;21mpie\u001b[39m(\n\u001b[1;32m   2794\u001b[0m         x, explode\u001b[38;5;241m=\u001b[39m\u001b[38;5;28;01mNone\u001b[39;00m, labels\u001b[38;5;241m=\u001b[39m\u001b[38;5;28;01mNone\u001b[39;00m, colors\u001b[38;5;241m=\u001b[39m\u001b[38;5;28;01mNone\u001b[39;00m, autopct\u001b[38;5;241m=\u001b[39m\u001b[38;5;28;01mNone\u001b[39;00m,\n\u001b[0;32m   (...)\u001b[0m\n\u001b[1;32m   2797\u001b[0m         textprops\u001b[38;5;241m=\u001b[39m\u001b[38;5;28;01mNone\u001b[39;00m, center\u001b[38;5;241m=\u001b[39m(\u001b[38;5;241m0\u001b[39m, \u001b[38;5;241m0\u001b[39m), frame\u001b[38;5;241m=\u001b[39m\u001b[38;5;28;01mFalse\u001b[39;00m,\n\u001b[1;32m   2798\u001b[0m         rotatelabels\u001b[38;5;241m=\u001b[39m\u001b[38;5;28;01mFalse\u001b[39;00m, \u001b[38;5;241m*\u001b[39m, normalize\u001b[38;5;241m=\u001b[39m\u001b[38;5;28;01mTrue\u001b[39;00m, hatch\u001b[38;5;241m=\u001b[39m\u001b[38;5;28;01mNone\u001b[39;00m, data\u001b[38;5;241m=\u001b[39m\u001b[38;5;28;01mNone\u001b[39;00m):\n\u001b[0;32m-> 2799\u001b[0m     \u001b[38;5;28;01mreturn\u001b[39;00m \u001b[43mgca\u001b[49m\u001b[43m(\u001b[49m\u001b[43m)\u001b[49m\u001b[38;5;241;43m.\u001b[39;49m\u001b[43mpie\u001b[49m\u001b[43m(\u001b[49m\n\u001b[1;32m   2800\u001b[0m \u001b[43m        \u001b[49m\u001b[43mx\u001b[49m\u001b[43m,\u001b[49m\u001b[43m \u001b[49m\u001b[43mexplode\u001b[49m\u001b[38;5;241;43m=\u001b[39;49m\u001b[43mexplode\u001b[49m\u001b[43m,\u001b[49m\u001b[43m \u001b[49m\u001b[43mlabels\u001b[49m\u001b[38;5;241;43m=\u001b[39;49m\u001b[43mlabels\u001b[49m\u001b[43m,\u001b[49m\u001b[43m \u001b[49m\u001b[43mcolors\u001b[49m\u001b[38;5;241;43m=\u001b[39;49m\u001b[43mcolors\u001b[49m\u001b[43m,\u001b[49m\n\u001b[1;32m   2801\u001b[0m \u001b[43m        \u001b[49m\u001b[43mautopct\u001b[49m\u001b[38;5;241;43m=\u001b[39;49m\u001b[43mautopct\u001b[49m\u001b[43m,\u001b[49m\u001b[43m \u001b[49m\u001b[43mpctdistance\u001b[49m\u001b[38;5;241;43m=\u001b[39;49m\u001b[43mpctdistance\u001b[49m\u001b[43m,\u001b[49m\u001b[43m \u001b[49m\u001b[43mshadow\u001b[49m\u001b[38;5;241;43m=\u001b[39;49m\u001b[43mshadow\u001b[49m\u001b[43m,\u001b[49m\n\u001b[1;32m   2802\u001b[0m \u001b[43m        \u001b[49m\u001b[43mlabeldistance\u001b[49m\u001b[38;5;241;43m=\u001b[39;49m\u001b[43mlabeldistance\u001b[49m\u001b[43m,\u001b[49m\u001b[43m \u001b[49m\u001b[43mstartangle\u001b[49m\u001b[38;5;241;43m=\u001b[39;49m\u001b[43mstartangle\u001b[49m\u001b[43m,\u001b[49m\n\u001b[1;32m   2803\u001b[0m \u001b[43m        \u001b[49m\u001b[43mradius\u001b[49m\u001b[38;5;241;43m=\u001b[39;49m\u001b[43mradius\u001b[49m\u001b[43m,\u001b[49m\u001b[43m \u001b[49m\u001b[43mcounterclock\u001b[49m\u001b[38;5;241;43m=\u001b[39;49m\u001b[43mcounterclock\u001b[49m\u001b[43m,\u001b[49m\n\u001b[1;32m   2804\u001b[0m \u001b[43m        \u001b[49m\u001b[43mwedgeprops\u001b[49m\u001b[38;5;241;43m=\u001b[39;49m\u001b[43mwedgeprops\u001b[49m\u001b[43m,\u001b[49m\u001b[43m \u001b[49m\u001b[43mtextprops\u001b[49m\u001b[38;5;241;43m=\u001b[39;49m\u001b[43mtextprops\u001b[49m\u001b[43m,\u001b[49m\u001b[43m \u001b[49m\u001b[43mcenter\u001b[49m\u001b[38;5;241;43m=\u001b[39;49m\u001b[43mcenter\u001b[49m\u001b[43m,\u001b[49m\n\u001b[1;32m   2805\u001b[0m \u001b[43m        \u001b[49m\u001b[43mframe\u001b[49m\u001b[38;5;241;43m=\u001b[39;49m\u001b[43mframe\u001b[49m\u001b[43m,\u001b[49m\u001b[43m \u001b[49m\u001b[43mrotatelabels\u001b[49m\u001b[38;5;241;43m=\u001b[39;49m\u001b[43mrotatelabels\u001b[49m\u001b[43m,\u001b[49m\u001b[43m \u001b[49m\u001b[43mnormalize\u001b[49m\u001b[38;5;241;43m=\u001b[39;49m\u001b[43mnormalize\u001b[49m\u001b[43m,\u001b[49m\n\u001b[1;32m   2806\u001b[0m \u001b[43m        \u001b[49m\u001b[43mhatch\u001b[49m\u001b[38;5;241;43m=\u001b[39;49m\u001b[43mhatch\u001b[49m\u001b[43m,\u001b[49m\u001b[43m \u001b[49m\u001b[38;5;241;43m*\u001b[39;49m\u001b[38;5;241;43m*\u001b[39;49m\u001b[43m(\u001b[49m\u001b[43m{\u001b[49m\u001b[38;5;124;43m\"\u001b[39;49m\u001b[38;5;124;43mdata\u001b[39;49m\u001b[38;5;124;43m\"\u001b[39;49m\u001b[43m:\u001b[49m\u001b[43m \u001b[49m\u001b[43mdata\u001b[49m\u001b[43m}\u001b[49m\u001b[43m \u001b[49m\u001b[38;5;28;43;01mif\u001b[39;49;00m\u001b[43m \u001b[49m\u001b[43mdata\u001b[49m\u001b[43m \u001b[49m\u001b[38;5;129;43;01mis\u001b[39;49;00m\u001b[43m \u001b[49m\u001b[38;5;129;43;01mnot\u001b[39;49;00m\u001b[43m \u001b[49m\u001b[38;5;28;43;01mNone\u001b[39;49;00m\u001b[43m \u001b[49m\u001b[38;5;28;43;01melse\u001b[39;49;00m\u001b[43m \u001b[49m\u001b[43m{\u001b[49m\u001b[43m}\u001b[49m\u001b[43m)\u001b[49m\u001b[43m)\u001b[49m\n",
      "File \u001b[0;32m/opt/conda/lib/python3.10/site-packages/matplotlib/__init__.py:1446\u001b[0m, in \u001b[0;36m_preprocess_data.<locals>.inner\u001b[0;34m(ax, data, *args, **kwargs)\u001b[0m\n\u001b[1;32m   1443\u001b[0m \u001b[38;5;129m@functools\u001b[39m\u001b[38;5;241m.\u001b[39mwraps(func)\n\u001b[1;32m   1444\u001b[0m \u001b[38;5;28;01mdef\u001b[39;00m \u001b[38;5;21minner\u001b[39m(ax, \u001b[38;5;241m*\u001b[39margs, data\u001b[38;5;241m=\u001b[39m\u001b[38;5;28;01mNone\u001b[39;00m, \u001b[38;5;241m*\u001b[39m\u001b[38;5;241m*\u001b[39mkwargs):\n\u001b[1;32m   1445\u001b[0m     \u001b[38;5;28;01mif\u001b[39;00m data \u001b[38;5;129;01mis\u001b[39;00m \u001b[38;5;28;01mNone\u001b[39;00m:\n\u001b[0;32m-> 1446\u001b[0m         \u001b[38;5;28;01mreturn\u001b[39;00m \u001b[43mfunc\u001b[49m\u001b[43m(\u001b[49m\u001b[43max\u001b[49m\u001b[43m,\u001b[49m\u001b[43m \u001b[49m\u001b[38;5;241;43m*\u001b[39;49m\u001b[38;5;28;43mmap\u001b[39;49m\u001b[43m(\u001b[49m\u001b[43msanitize_sequence\u001b[49m\u001b[43m,\u001b[49m\u001b[43m \u001b[49m\u001b[43margs\u001b[49m\u001b[43m)\u001b[49m\u001b[43m,\u001b[49m\u001b[43m \u001b[49m\u001b[38;5;241;43m*\u001b[39;49m\u001b[38;5;241;43m*\u001b[39;49m\u001b[43mkwargs\u001b[49m\u001b[43m)\u001b[49m\n\u001b[1;32m   1448\u001b[0m     bound \u001b[38;5;241m=\u001b[39m new_sig\u001b[38;5;241m.\u001b[39mbind(ax, \u001b[38;5;241m*\u001b[39margs, \u001b[38;5;241m*\u001b[39m\u001b[38;5;241m*\u001b[39mkwargs)\n\u001b[1;32m   1449\u001b[0m     auto_label \u001b[38;5;241m=\u001b[39m (bound\u001b[38;5;241m.\u001b[39marguments\u001b[38;5;241m.\u001b[39mget(label_namer)\n\u001b[1;32m   1450\u001b[0m                   \u001b[38;5;129;01mor\u001b[39;00m bound\u001b[38;5;241m.\u001b[39mkwargs\u001b[38;5;241m.\u001b[39mget(label_namer))\n",
      "File \u001b[0;32m/opt/conda/lib/python3.10/site-packages/matplotlib/axes/_axes.py:3183\u001b[0m, in \u001b[0;36mAxes.pie\u001b[0;34m(self, x, explode, labels, colors, autopct, pctdistance, shadow, labeldistance, startangle, radius, counterclock, wedgeprops, textprops, center, frame, rotatelabels, normalize, hatch)\u001b[0m\n\u001b[1;32m   3180\u001b[0m \u001b[38;5;28mself\u001b[39m\u001b[38;5;241m.\u001b[39mset_aspect(\u001b[38;5;124m'\u001b[39m\u001b[38;5;124mequal\u001b[39m\u001b[38;5;124m'\u001b[39m)\n\u001b[1;32m   3181\u001b[0m \u001b[38;5;66;03m# The use of float32 is \"historical\", but can't be changed without\u001b[39;00m\n\u001b[1;32m   3182\u001b[0m \u001b[38;5;66;03m# regenerating the test baselines.\u001b[39;00m\n\u001b[0;32m-> 3183\u001b[0m x \u001b[38;5;241m=\u001b[39m \u001b[43mnp\u001b[49m\u001b[38;5;241;43m.\u001b[39;49m\u001b[43masarray\u001b[49m\u001b[43m(\u001b[49m\u001b[43mx\u001b[49m\u001b[43m,\u001b[49m\u001b[43m \u001b[49m\u001b[43mnp\u001b[49m\u001b[38;5;241;43m.\u001b[39;49m\u001b[43mfloat32\u001b[49m\u001b[43m)\u001b[49m\n\u001b[1;32m   3184\u001b[0m \u001b[38;5;28;01mif\u001b[39;00m x\u001b[38;5;241m.\u001b[39mndim \u001b[38;5;241m>\u001b[39m \u001b[38;5;241m1\u001b[39m:\n\u001b[1;32m   3185\u001b[0m     \u001b[38;5;28;01mraise\u001b[39;00m \u001b[38;5;167;01mValueError\u001b[39;00m(\u001b[38;5;124m\"\u001b[39m\u001b[38;5;124mx must be 1D\u001b[39m\u001b[38;5;124m\"\u001b[39m)\n",
      "\u001b[0;31mTypeError\u001b[0m: float() argument must be a string or a real number, not 'method'"
     ]
    },
    {
     "data": {
      "image/png": "[encoded data removed]",
      "text/plain": [
       "<Figure size 640x480 with 1 Axes>"
      ]
     },
     "metadata": {},
     "output_type": "display_data"
    }
   ],
   "source": [
    "ax = plt.pie(count,labels=labels,autopct='%1.1f%%')"
   ]
  },
  {
   "cell_type": "code",
   "execution_count": null,
   "id": "fbf64736",
   "metadata": {
    "papermill": {
     "duration": null,
     "end_time": null,
     "exception": null,
     "start_time": null,
     "status": "pending"
    },
    "tags": []
   },
   "outputs": [],
   "source": []
  },
  {
   "cell_type": "code",
   "execution_count": null,
   "id": "1c7fe31d",
   "metadata": {
    "papermill": {
     "duration": null,
     "end_time": null,
     "exception": null,
     "start_time": null,
     "status": "pending"
    },
    "tags": []
   },
   "outputs": [],
   "source": []
  },
  {
   "cell_type": "code",
   "execution_count": null,
   "id": "eb693099",
   "metadata": {
    "papermill": {
     "duration": null,
     "end_time": null,
     "exception": null,
     "start_time": null,
     "status": "pending"
    },
    "tags": []
   },
   "outputs": [],
   "source": []
  },
  {
   "cell_type": "code",
   "execution_count": null,
   "id": "7030d0d4",
   "metadata": {
    "papermill": {
     "duration": null,
     "end_time": null,
     "exception": null,
     "start_time": null,
     "status": "pending"
    },
    "tags": []
   },
   "outputs": [],
   "source": []
  },
  {
   "cell_type": "markdown",
   "id": "0cd04ba4",
   "metadata": {
    "papermill": {
     "duration": null,
     "end_time": null,
     "exception": null,
     "start_time": null,
     "status": "pending"
    },
    "tags": []
   },
   "source": [
    "### Now use seaborn to create a countplot of 911 calls by Reason. "
   ]
  },
  {
   "cell_type": "code",
   "execution_count": null,
   "id": "d9125dc1",
   "metadata": {
    "execution": {
     "iopub.execute_input": "2023-11-22T12:13:53.300047Z",
     "iopub.status.busy": "2023-11-22T12:13:53.299741Z",
     "iopub.status.idle": "2023-11-22T12:13:53.464583Z",
     "shell.execute_reply": "2023-11-22T12:13:53.463782Z",
     "shell.execute_reply.started": "2023-11-22T12:13:53.300023Z"
    },
    "papermill": {
     "duration": null,
     "end_time": null,
     "exception": null,
     "start_time": null,
     "status": "pending"
    },
    "tags": []
   },
   "outputs": [],
   "source": [
    "sns.countplot(x='Reason',data=df_emer)"
   ]
  },
  {
   "cell_type": "code",
   "execution_count": null,
   "id": "b049a811",
   "metadata": {
    "papermill": {
     "duration": null,
     "end_time": null,
     "exception": null,
     "start_time": null,
     "status": "pending"
    },
    "tags": []
   },
   "outputs": [],
   "source": []
  },
  {
   "cell_type": "markdown",
   "id": "148f398e",
   "metadata": {
    "papermill": {
     "duration": null,
     "end_time": null,
     "exception": null,
     "start_time": null,
     "status": "pending"
    },
    "tags": []
   },
   "source": [
    "### Use [pd.to_datetime](http://pandas.pydata.org/pandas-docs/stable/generated/pandas.to_datetime.html) to convert the column from strings to DateTime objects."
   ]
  },
  {
   "cell_type": "code",
   "execution_count": null,
   "id": "00beecaa",
   "metadata": {
    "execution": {
     "iopub.execute_input": "2023-11-22T12:14:02.374100Z",
     "iopub.status.busy": "2023-11-22T12:14:02.373207Z",
     "iopub.status.idle": "2023-11-22T12:14:02.385460Z",
     "shell.execute_reply": "2023-11-22T12:14:02.384784Z",
     "shell.execute_reply.started": "2023-11-22T12:14:02.374073Z"
    },
    "papermill": {
     "duration": null,
     "end_time": null,
     "exception": null,
     "start_time": null,
     "status": "pending"
    },
    "tags": []
   },
   "outputs": [],
   "source": [
    "df_emer.head()"
   ]
  },
  {
   "cell_type": "code",
   "execution_count": null,
   "id": "41320516",
   "metadata": {
    "execution": {
     "iopub.execute_input": "2023-11-22T12:14:33.670603Z",
     "iopub.status.busy": "2023-11-22T12:14:33.670078Z",
     "iopub.status.idle": "2023-11-22T12:14:33.677259Z",
     "shell.execute_reply": "2023-11-22T12:14:33.676475Z",
     "shell.execute_reply.started": "2023-11-22T12:14:33.670578Z"
    },
    "papermill": {
     "duration": null,
     "end_time": null,
     "exception": null,
     "start_time": null,
     "status": "pending"
    },
    "tags": []
   },
   "outputs": [],
   "source": [
    "df_emer['Reason']=pd.to_datetime(df_emer['Reason'])"
   ]
  },
  {
   "cell_type": "code",
   "execution_count": null,
   "id": "f3c41436",
   "metadata": {
    "execution": {
     "iopub.execute_input": "2023-11-22T12:14:37.287370Z",
     "iopub.status.busy": "2023-11-22T12:14:37.287034Z",
     "iopub.status.idle": "2023-11-22T12:14:37.313932Z",
     "shell.execute_reply": "2023-11-22T12:14:37.313080Z",
     "shell.execute_reply.started": "2023-11-22T12:14:37.287346Z"
    },
    "papermill": {
     "duration": null,
     "end_time": null,
     "exception": null,
     "start_time": null,
     "status": "pending"
    },
    "tags": []
   },
   "outputs": [],
   "source": [
    "df_emer.info()"
   ]
  },
  {
   "cell_type": "code",
   "execution_count": null,
   "id": "760d40ab",
   "metadata": {
    "papermill": {
     "duration": null,
     "end_time": null,
     "exception": null,
     "start_time": null,
     "status": "pending"
    },
    "tags": []
   },
   "outputs": [],
   "source": []
  },
  {
   "cell_type": "code",
   "execution_count": null,
   "id": "f8abae17",
   "metadata": {
    "papermill": {
     "duration": null,
     "end_time": null,
     "exception": null,
     "start_time": null,
     "status": "pending"
    },
    "tags": []
   },
   "outputs": [],
   "source": []
  },
  {
   "cell_type": "code",
   "execution_count": null,
   "id": "22231fa1",
   "metadata": {
    "papermill": {
     "duration": null,
     "end_time": null,
     "exception": null,
     "start_time": null,
     "status": "pending"
    },
    "tags": []
   },
   "outputs": [],
   "source": []
  },
  {
   "cell_type": "code",
   "execution_count": null,
   "id": "af655214",
   "metadata": {
    "execution": {
     "iopub.execute_input": "2023-11-22T12:15:19.877353Z",
     "iopub.status.busy": "2023-11-22T12:15:19.877004Z",
     "iopub.status.idle": "2023-11-22T12:15:19.888034Z",
     "shell.execute_reply": "2023-11-22T12:15:19.887275Z",
     "shell.execute_reply.started": "2023-11-22T12:15:19.877327Z"
    },
    "papermill": {
     "duration": null,
     "end_time": null,
     "exception": null,
     "start_time": null,
     "status": "pending"
    },
    "tags": []
   },
   "outputs": [],
   "source": [
    "df_emer['timeStamp']=pd.to_datetime(df_emer['timeStamp'])"
   ]
  },
  {
   "cell_type": "code",
   "execution_count": null,
   "id": "403293fb",
   "metadata": {
    "execution": {
     "iopub.execute_input": "2023-11-22T12:14:48.546606Z",
     "iopub.status.busy": "2023-11-22T12:14:48.546312Z",
     "iopub.status.idle": "2023-11-22T12:14:48.552263Z",
     "shell.execute_reply": "2023-11-22T12:14:48.551408Z",
     "shell.execute_reply.started": "2023-11-22T12:14:48.546583Z"
    },
    "papermill": {
     "duration": null,
     "end_time": null,
     "exception": null,
     "start_time": null,
     "status": "pending"
    },
    "tags": []
   },
   "outputs": [],
   "source": [
    "time = df_emer['timeStamp'].iloc[0]\n",
    "time"
   ]
  },
  {
   "cell_type": "code",
   "execution_count": null,
   "id": "49ebfc77",
   "metadata": {
    "execution": {
     "iopub.execute_input": "2023-11-22T12:14:54.264064Z",
     "iopub.status.busy": "2023-11-22T12:14:54.263764Z",
     "iopub.status.idle": "2023-11-22T12:14:54.268410Z",
     "shell.execute_reply": "2023-11-22T12:14:54.267844Z",
     "shell.execute_reply.started": "2023-11-22T12:14:54.264041Z"
    },
    "papermill": {
     "duration": null,
     "end_time": null,
     "exception": null,
     "start_time": null,
     "status": "pending"
    },
    "tags": []
   },
   "outputs": [],
   "source": [
    "time.hour"
   ]
  },
  {
   "cell_type": "code",
   "execution_count": null,
   "id": "fac93772",
   "metadata": {
    "execution": {
     "iopub.execute_input": "2023-11-22T12:14:56.439142Z",
     "iopub.status.busy": "2023-11-22T12:14:56.438138Z",
     "iopub.status.idle": "2023-11-22T12:14:56.444027Z",
     "shell.execute_reply": "2023-11-22T12:14:56.443334Z",
     "shell.execute_reply.started": "2023-11-22T12:14:56.439110Z"
    },
    "papermill": {
     "duration": null,
     "end_time": null,
     "exception": null,
     "start_time": null,
     "status": "pending"
    },
    "tags": []
   },
   "outputs": [],
   "source": [
    "time.month"
   ]
  },
  {
   "cell_type": "code",
   "execution_count": null,
   "id": "ab366d34",
   "metadata": {
    "execution": {
     "iopub.execute_input": "2023-11-22T12:14:58.535144Z",
     "iopub.status.busy": "2023-11-22T12:14:58.534433Z",
     "iopub.status.idle": "2023-11-22T12:14:58.540716Z",
     "shell.execute_reply": "2023-11-22T12:14:58.539912Z",
     "shell.execute_reply.started": "2023-11-22T12:14:58.535118Z"
    },
    "papermill": {
     "duration": null,
     "end_time": null,
     "exception": null,
     "start_time": null,
     "status": "pending"
    },
    "tags": []
   },
   "outputs": [],
   "source": [
    "time.day_of_week"
   ]
  },
  {
   "cell_type": "markdown",
   "id": "4d42301f",
   "metadata": {
    "papermill": {
     "duration": null,
     "end_time": null,
     "exception": null,
     "start_time": null,
     "status": "pending"
    },
    "tags": []
   },
   "source": [
    "### Create the following new columns:\n",
    "- Now that the timestamp column are actually DateTime objects.\n",
    "- use <b>.apply()</b> to create 3 new columns called Hour, Month, and Day of Week.\n",
    "- You will create these columns based off of the timeStamp column."
   ]
  },
  {
   "cell_type": "code",
   "execution_count": null,
   "id": "1195d4c8",
   "metadata": {
    "execution": {
     "iopub.execute_input": "2023-11-22T12:16:32.585139Z",
     "iopub.status.busy": "2023-11-22T12:16:32.584790Z",
     "iopub.status.idle": "2023-11-22T12:16:33.164668Z",
     "shell.execute_reply": "2023-11-22T12:16:33.163870Z",
     "shell.execute_reply.started": "2023-11-22T12:16:32.585113Z"
    },
    "papermill": {
     "duration": null,
     "end_time": null,
     "exception": null,
     "start_time": null,
     "status": "pending"
    },
    "tags": []
   },
   "outputs": [],
   "source": [
    "df_emer['Hour']=df_emer['timeStamp'].apply(lambda x: x.hour)\n",
    "df_emer['Month']=df_emer['timeStamp'].apply(lambda x: x.month)\n",
    "df_emer['Day']=df_emer['timeStamp'].apply(lambda x: x.day_of_week)"
   ]
  },
  {
   "cell_type": "code",
   "execution_count": null,
   "id": "7eb9162e",
   "metadata": {
    "execution": {
     "iopub.execute_input": "2023-11-22T12:16:25.161845Z",
     "iopub.status.busy": "2023-11-22T12:16:25.161528Z",
     "iopub.status.idle": "2023-11-22T12:16:25.176510Z",
     "shell.execute_reply": "2023-11-22T12:16:25.175370Z",
     "shell.execute_reply.started": "2023-11-22T12:16:25.161822Z"
    },
    "papermill": {
     "duration": null,
     "end_time": null,
     "exception": null,
     "start_time": null,
     "status": "pending"
    },
    "tags": []
   },
   "outputs": [],
   "source": [
    "df_emer.head()"
   ]
  },
  {
   "cell_type": "code",
   "execution_count": null,
   "id": "8ce2a3a6",
   "metadata": {
    "execution": {
     "iopub.status.busy": "2023-11-22T12:07:18.596847Z",
     "iopub.status.idle": "2023-11-22T12:07:18.597241Z",
     "shell.execute_reply": "2023-11-22T12:07:18.597051Z",
     "shell.execute_reply.started": "2023-11-22T12:07:18.597033Z"
    },
    "papermill": {
     "duration": null,
     "end_time": null,
     "exception": null,
     "start_time": null,
     "status": "pending"
    },
    "tags": []
   },
   "outputs": [],
   "source": [
    "df_emer.info()"
   ]
  },
  {
   "cell_type": "code",
   "execution_count": null,
   "id": "b6ecc1d5",
   "metadata": {
    "papermill": {
     "duration": null,
     "end_time": null,
     "exception": null,
     "start_time": null,
     "status": "pending"
    },
    "tags": []
   },
   "outputs": [],
   "source": []
  },
  {
   "cell_type": "code",
   "execution_count": null,
   "id": "8f674fae",
   "metadata": {
    "papermill": {
     "duration": null,
     "end_time": null,
     "exception": null,
     "start_time": null,
     "status": "pending"
    },
    "tags": []
   },
   "outputs": [],
   "source": []
  },
  {
   "cell_type": "markdown",
   "id": "58834564",
   "metadata": {
    "papermill": {
     "duration": null,
     "end_time": null,
     "exception": null,
     "start_time": null,
     "status": "pending"
    },
    "tags": []
   },
   "source": [
    "### Use seaborn to create a countplot of the Day of Week column with the hue based off of the Reason column. "
   ]
  },
  {
   "cell_type": "code",
   "execution_count": null,
   "id": "45dc8252",
   "metadata": {
    "execution": {
     "iopub.status.busy": "2023-11-22T12:07:18.598272Z",
     "iopub.status.idle": "2023-11-22T12:07:18.598540Z",
     "shell.execute_reply": "2023-11-22T12:07:18.598409Z",
     "shell.execute_reply.started": "2023-11-22T12:07:18.598397Z"
    },
    "papermill": {
     "duration": null,
     "end_time": null,
     "exception": null,
     "start_time": null,
     "status": "pending"
    },
    "tags": []
   },
   "outputs": [],
   "source": [
    "df_emer.head()"
   ]
  },
  {
   "cell_type": "code",
   "execution_count": null,
   "id": "43c58c03",
   "metadata": {
    "execution": {
     "iopub.execute_input": "2023-11-22T12:16:41.748025Z",
     "iopub.status.busy": "2023-11-22T12:16:41.747677Z",
     "iopub.status.idle": "2023-11-22T12:16:42.054566Z",
     "shell.execute_reply": "2023-11-22T12:16:42.053689Z",
     "shell.execute_reply.started": "2023-11-22T12:16:41.748000Z"
    },
    "papermill": {
     "duration": null,
     "end_time": null,
     "exception": null,
     "start_time": null,
     "status": "pending"
    },
    "tags": []
   },
   "outputs": [],
   "source": [
    "sns.countplot(x='Day',data=df_emer,hue='Reason')"
   ]
  },
  {
   "cell_type": "code",
   "execution_count": null,
   "id": "64a76026",
   "metadata": {
    "papermill": {
     "duration": null,
     "end_time": null,
     "exception": null,
     "start_time": null,
     "status": "pending"
    },
    "tags": []
   },
   "outputs": [],
   "source": []
  },
  {
   "cell_type": "markdown",
   "id": "a42cf5c4",
   "metadata": {
    "papermill": {
     "duration": null,
     "end_time": null,
     "exception": null,
     "start_time": null,
     "status": "pending"
    },
    "tags": []
   },
   "source": [
    "### Use map function to change the Day of Week from numbers to actual days and replot."
   ]
  },
  {
   "cell_type": "code",
   "execution_count": null,
   "id": "143c415e",
   "metadata": {
    "papermill": {
     "duration": null,
     "end_time": null,
     "exception": null,
     "start_time": null,
     "status": "pending"
    },
    "tags": []
   },
   "outputs": [],
   "source": []
  },
  {
   "cell_type": "code",
   "execution_count": null,
   "id": "04457d58",
   "metadata": {
    "papermill": {
     "duration": null,
     "end_time": null,
     "exception": null,
     "start_time": null,
     "status": "pending"
    },
    "tags": []
   },
   "outputs": [],
   "source": []
  },
  {
   "cell_type": "markdown",
   "id": "c4fa87cc",
   "metadata": {
    "papermill": {
     "duration": null,
     "end_time": null,
     "exception": null,
     "start_time": null,
     "status": "pending"
    },
    "tags": []
   },
   "source": [
    "### Use seaborn to create a countplot of the Month column with the hue based off of the Reason column. "
   ]
  },
  {
   "cell_type": "code",
   "execution_count": null,
   "id": "9cc6857d",
   "metadata": {
    "execution": {
     "iopub.execute_input": "2023-11-22T12:23:48.950372Z",
     "iopub.status.busy": "2023-11-22T12:23:48.950040Z",
     "iopub.status.idle": "2023-11-22T12:23:49.265047Z",
     "shell.execute_reply": "2023-11-22T12:23:49.264274Z",
     "shell.execute_reply.started": "2023-11-22T12:23:48.950348Z"
    },
    "papermill": {
     "duration": null,
     "end_time": null,
     "exception": null,
     "start_time": null,
     "status": "pending"
    },
    "tags": []
   },
   "outputs": [],
   "source": [
    "sns.countplot(x='Month',data=df_emer,hue='Reason')"
   ]
  },
  {
   "cell_type": "markdown",
   "id": "a6d52a78",
   "metadata": {
    "papermill": {
     "duration": null,
     "end_time": null,
     "exception": null,
     "start_time": null,
     "status": "pending"
    },
    "tags": []
   },
   "source": [
    "## Other data analysis"
   ]
  },
  {
   "cell_type": "code",
   "execution_count": null,
   "id": "15aad1c0",
   "metadata": {
    "execution": {
     "iopub.execute_input": "2023-11-22T12:26:46.480907Z",
     "iopub.status.busy": "2023-11-22T12:26:46.480075Z",
     "iopub.status.idle": "2023-11-22T12:26:46.492625Z",
     "shell.execute_reply": "2023-11-22T12:26:46.491897Z",
     "shell.execute_reply.started": "2023-11-22T12:26:46.480880Z"
    },
    "papermill": {
     "duration": null,
     "end_time": null,
     "exception": null,
     "start_time": null,
     "status": "pending"
    },
    "tags": []
   },
   "outputs": [],
   "source": [
    "#Create a Dictionary of series\n",
    "d = {'Name':pd.Series(['Tom','James','Ricky','Vin','Steve','Smith','Jack',\n",
    "   'Lee','David','Gasper','Betina','Andres']),\n",
    "   'Age':pd.Series([25,26,25,23,30,29,23,34,40,30,51,46]),\n",
    "   'Rating':pd.Series([4.23,3.24,3.98,2.56,3.20,4.6,3.8,3.78,2.98,4.80,4.10,3.65])\n",
    "}\n",
    "\n",
    "#Create a DataFrame\n",
    "df = pd.DataFrame(d)\n",
    "df"
   ]
  },
  {
   "cell_type": "markdown",
   "id": "e205f07c",
   "metadata": {
    "papermill": {
     "duration": null,
     "end_time": null,
     "exception": null,
     "start_time": null,
     "status": "pending"
    },
    "tags": []
   },
   "source": [
    "### Find the sum of the values for the Ages and Ratings"
   ]
  },
  {
   "cell_type": "code",
   "execution_count": null,
   "id": "22409295",
   "metadata": {
    "execution": {
     "iopub.execute_input": "2023-11-22T12:31:34.077851Z",
     "iopub.status.busy": "2023-11-22T12:31:34.077555Z",
     "iopub.status.idle": "2023-11-22T12:31:34.084164Z",
     "shell.execute_reply": "2023-11-22T12:31:34.083327Z",
     "shell.execute_reply.started": "2023-11-22T12:31:34.077828Z"
    },
    "papermill": {
     "duration": null,
     "end_time": null,
     "exception": null,
     "start_time": null,
     "status": "pending"
    },
    "tags": []
   },
   "outputs": [],
   "source": [
    "age_sum=df['Age'].sum()\n",
    "rat_sum=df['Rating'].sum()\n",
    "age_sum\n"
   ]
  },
  {
   "cell_type": "code",
   "execution_count": null,
   "id": "cfa799a1",
   "metadata": {
    "execution": {
     "iopub.execute_input": "2023-11-22T12:31:46.468393Z",
     "iopub.status.busy": "2023-11-22T12:31:46.468069Z",
     "iopub.status.idle": "2023-11-22T12:31:46.473580Z",
     "shell.execute_reply": "2023-11-22T12:31:46.472768Z",
     "shell.execute_reply.started": "2023-11-22T12:31:46.468368Z"
    },
    "papermill": {
     "duration": null,
     "end_time": null,
     "exception": null,
     "start_time": null,
     "status": "pending"
    },
    "tags": []
   },
   "outputs": [],
   "source": [
    "rat_sum"
   ]
  },
  {
   "cell_type": "markdown",
   "id": "714cc06a",
   "metadata": {
    "papermill": {
     "duration": null,
     "end_time": null,
     "exception": null,
     "start_time": null,
     "status": "pending"
    },
    "tags": []
   },
   "source": [
    "### Find the average age and rating"
   ]
  },
  {
   "cell_type": "code",
   "execution_count": null,
   "id": "f3a05e60",
   "metadata": {
    "execution": {
     "iopub.execute_input": "2023-11-22T12:35:03.987254Z",
     "iopub.status.busy": "2023-11-22T12:35:03.986909Z",
     "iopub.status.idle": "2023-11-22T12:35:03.993280Z",
     "shell.execute_reply": "2023-11-22T12:35:03.992444Z",
     "shell.execute_reply.started": "2023-11-22T12:35:03.987206Z"
    },
    "papermill": {
     "duration": null,
     "end_time": null,
     "exception": null,
     "start_time": null,
     "status": "pending"
    },
    "tags": []
   },
   "outputs": [],
   "source": [
    "rat_avg=df['Rating'].mean()\n",
    "rat_avg"
   ]
  },
  {
   "cell_type": "code",
   "execution_count": null,
   "id": "244cc0ad",
   "metadata": {
    "execution": {
     "iopub.execute_input": "2023-11-22T12:34:29.213179Z",
     "iopub.status.busy": "2023-11-22T12:34:29.212841Z",
     "iopub.status.idle": "2023-11-22T12:34:29.218843Z",
     "shell.execute_reply": "2023-11-22T12:34:29.218046Z",
     "shell.execute_reply.started": "2023-11-22T12:34:29.213155Z"
    },
    "papermill": {
     "duration": null,
     "end_time": null,
     "exception": null,
     "start_time": null,
     "status": "pending"
    },
    "tags": []
   },
   "outputs": [],
   "source": [
    "age_avg=df['Age'].mean()\n",
    "age_avg"
   ]
  },
  {
   "cell_type": "markdown",
   "id": "630007a7",
   "metadata": {
    "papermill": {
     "duration": null,
     "end_time": null,
     "exception": null,
     "start_time": null,
     "status": "pending"
    },
    "tags": []
   },
   "source": [
    "### Find the standard deviation of age and rating"
   ]
  },
  {
   "cell_type": "code",
   "execution_count": null,
   "id": "ea267d36",
   "metadata": {
    "execution": {
     "iopub.execute_input": "2023-11-22T12:40:09.504749Z",
     "iopub.status.busy": "2023-11-22T12:40:09.504438Z",
     "iopub.status.idle": "2023-11-22T12:40:09.511274Z",
     "shell.execute_reply": "2023-11-22T12:40:09.510133Z",
     "shell.execute_reply.started": "2023-11-22T12:40:09.504726Z"
    },
    "papermill": {
     "duration": null,
     "end_time": null,
     "exception": null,
     "start_time": null,
     "status": "pending"
    },
    "tags": []
   },
   "outputs": [],
   "source": [
    "rat_std=df['Rating'].std()\n",
    "rat_std"
   ]
  },
  {
   "cell_type": "code",
   "execution_count": null,
   "id": "ab0b2648",
   "metadata": {
    "execution": {
     "iopub.execute_input": "2023-11-22T12:40:14.243301Z",
     "iopub.status.busy": "2023-11-22T12:40:14.242921Z",
     "iopub.status.idle": "2023-11-22T12:40:14.249418Z",
     "shell.execute_reply": "2023-11-22T12:40:14.248475Z",
     "shell.execute_reply.started": "2023-11-22T12:40:14.243274Z"
    },
    "papermill": {
     "duration": null,
     "end_time": null,
     "exception": null,
     "start_time": null,
     "status": "pending"
    },
    "tags": []
   },
   "outputs": [],
   "source": [
    "age_std=df['Age'].std()\n",
    "age_std"
   ]
  },
  {
   "cell_type": "markdown",
   "id": "e20e6986",
   "metadata": {
    "papermill": {
     "duration": null,
     "end_time": null,
     "exception": null,
     "start_time": null,
     "status": "pending"
    },
    "tags": []
   },
   "source": [
    "### Find the minimum of age and rating"
   ]
  },
  {
   "cell_type": "code",
   "execution_count": null,
   "id": "3fa417dc",
   "metadata": {
    "execution": {
     "iopub.execute_input": "2023-11-22T12:41:33.034549Z",
     "iopub.status.busy": "2023-11-22T12:41:33.034192Z",
     "iopub.status.idle": "2023-11-22T12:41:33.040004Z",
     "shell.execute_reply": "2023-11-22T12:41:33.039441Z",
     "shell.execute_reply.started": "2023-11-22T12:41:33.034524Z"
    },
    "papermill": {
     "duration": null,
     "end_time": null,
     "exception": null,
     "start_time": null,
     "status": "pending"
    },
    "tags": []
   },
   "outputs": [],
   "source": [
    "rat_min=df['Rating'].min()\n",
    "rat_min"
   ]
  },
  {
   "cell_type": "code",
   "execution_count": null,
   "id": "22e63e21",
   "metadata": {
    "execution": {
     "iopub.execute_input": "2023-11-22T12:40:57.203465Z",
     "iopub.status.busy": "2023-11-22T12:40:57.202639Z",
     "iopub.status.idle": "2023-11-22T12:40:57.208984Z",
     "shell.execute_reply": "2023-11-22T12:40:57.208165Z",
     "shell.execute_reply.started": "2023-11-22T12:40:57.203435Z"
    },
    "papermill": {
     "duration": null,
     "end_time": null,
     "exception": null,
     "start_time": null,
     "status": "pending"
    },
    "tags": []
   },
   "outputs": [],
   "source": [
    "age_min=df['Age'].min()\n",
    "age_min"
   ]
  },
  {
   "cell_type": "markdown",
   "id": "23994e5d",
   "metadata": {
    "papermill": {
     "duration": null,
     "end_time": null,
     "exception": null,
     "start_time": null,
     "status": "pending"
    },
    "tags": []
   },
   "source": [
    "### Find the maximum of age and rating"
   ]
  },
  {
   "cell_type": "code",
   "execution_count": null,
   "id": "d35df072",
   "metadata": {
    "execution": {
     "iopub.execute_input": "2023-11-22T12:55:46.701503Z",
     "iopub.status.busy": "2023-11-22T12:55:46.701136Z",
     "iopub.status.idle": "2023-11-22T12:55:46.707111Z",
     "shell.execute_reply": "2023-11-22T12:55:46.706215Z",
     "shell.execute_reply.started": "2023-11-22T12:55:46.701478Z"
    },
    "papermill": {
     "duration": null,
     "end_time": null,
     "exception": null,
     "start_time": null,
     "status": "pending"
    },
    "tags": []
   },
   "outputs": [],
   "source": [
    "rat_max"
   ]
  },
  {
   "cell_type": "code",
   "execution_count": null,
   "id": "880a1546",
   "metadata": {
    "execution": {
     "iopub.execute_input": "2023-11-22T12:55:29.739299Z",
     "iopub.status.busy": "2023-11-22T12:55:29.738978Z",
     "iopub.status.idle": "2023-11-22T12:55:29.745467Z",
     "shell.execute_reply": "2023-11-22T12:55:29.744617Z",
     "shell.execute_reply.started": "2023-11-22T12:55:29.739274Z"
    },
    "papermill": {
     "duration": null,
     "end_time": null,
     "exception": null,
     "start_time": null,
     "status": "pending"
    },
    "tags": []
   },
   "outputs": [],
   "source": [
    "rat_max=df['Rating'].max()\n",
    "rat_max\n",
    "age_max=df['Age'].max()\n",
    "age_max"
   ]
  },
  {
   "cell_type": "markdown",
   "id": "f19c58b4",
   "metadata": {
    "papermill": {
     "duration": null,
     "end_time": null,
     "exception": null,
     "start_time": null,
     "status": "pending"
    },
    "tags": []
   },
   "source": [
    "### Find the median of age and rating"
   ]
  },
  {
   "cell_type": "code",
   "execution_count": null,
   "id": "26c011e7",
   "metadata": {
    "execution": {
     "iopub.execute_input": "2023-11-22T12:59:18.596173Z",
     "iopub.status.busy": "2023-11-22T12:59:18.595864Z",
     "iopub.status.idle": "2023-11-22T12:59:18.602595Z",
     "shell.execute_reply": "2023-11-22T12:59:18.601795Z",
     "shell.execute_reply.started": "2023-11-22T12:59:18.596150Z"
    },
    "papermill": {
     "duration": null,
     "end_time": null,
     "exception": null,
     "start_time": null,
     "status": "pending"
    },
    "tags": []
   },
   "outputs": [],
   "source": [
    "age_median=df['Age'].median()\n",
    "age_median"
   ]
  },
  {
   "cell_type": "code",
   "execution_count": null,
   "id": "e91cc9be",
   "metadata": {
    "execution": {
     "iopub.execute_input": "2023-11-22T12:58:46.474128Z",
     "iopub.status.busy": "2023-11-22T12:58:46.473812Z",
     "iopub.status.idle": "2023-11-22T12:58:46.480331Z",
     "shell.execute_reply": "2023-11-22T12:58:46.479484Z",
     "shell.execute_reply.started": "2023-11-22T12:58:46.474105Z"
    },
    "papermill": {
     "duration": null,
     "end_time": null,
     "exception": null,
     "start_time": null,
     "status": "pending"
    },
    "tags": []
   },
   "outputs": [],
   "source": [
    "rat_median=df['Rating'].median()\n",
    "rat_median"
   ]
  },
  {
   "cell_type": "code",
   "execution_count": null,
   "id": "632b51bf",
   "metadata": {
    "papermill": {
     "duration": null,
     "end_time": null,
     "exception": null,
     "start_time": null,
     "status": "pending"
    },
    "tags": []
   },
   "outputs": [],
   "source": []
  },
  {
   "cell_type": "markdown",
   "id": "e28243c6",
   "metadata": {
    "papermill": {
     "duration": null,
     "end_time": null,
     "exception": null,
     "start_time": null,
     "status": "pending"
    },
    "tags": []
   },
   "source": [
    "### Find the mode of age"
   ]
  },
  {
   "cell_type": "code",
   "execution_count": null,
   "id": "ffe3125d",
   "metadata": {
    "execution": {
     "iopub.execute_input": "2023-11-22T13:02:00.387161Z",
     "iopub.status.busy": "2023-11-22T13:02:00.386838Z",
     "iopub.status.idle": "2023-11-22T13:02:00.395340Z",
     "shell.execute_reply": "2023-11-22T13:02:00.394514Z",
     "shell.execute_reply.started": "2023-11-22T13:02:00.387137Z"
    },
    "papermill": {
     "duration": null,
     "end_time": null,
     "exception": null,
     "start_time": null,
     "status": "pending"
    },
    "tags": []
   },
   "outputs": [],
   "source": [
    "age_mode=df['Age'].mode()\n",
    "age_mode\n",
    "pd.DataFrame(age_mode)"
   ]
  },
  {
   "cell_type": "markdown",
   "id": "e31c963c",
   "metadata": {
    "papermill": {
     "duration": null,
     "end_time": null,
     "exception": null,
     "start_time": null,
     "status": "pending"
    },
    "tags": []
   },
   "source": [
    "### Find the value_counts() of age to check the frequency of each age."
   ]
  },
  {
   "cell_type": "code",
   "execution_count": null,
   "id": "9a39427b",
   "metadata": {
    "execution": {
     "iopub.execute_input": "2023-11-22T13:02:59.300245Z",
     "iopub.status.busy": "2023-11-22T13:02:59.299921Z",
     "iopub.status.idle": "2023-11-22T13:02:59.306188Z",
     "shell.execute_reply": "2023-11-22T13:02:59.305423Z",
     "shell.execute_reply.started": "2023-11-22T13:02:59.300202Z"
    },
    "papermill": {
     "duration": null,
     "end_time": null,
     "exception": null,
     "start_time": null,
     "status": "pending"
    },
    "tags": []
   },
   "outputs": [],
   "source": [
    "count=df['Age'].value_counts\n",
    "count"
   ]
  },
  {
   "cell_type": "markdown",
   "id": "c2b50191",
   "metadata": {
    "papermill": {
     "duration": null,
     "end_time": null,
     "exception": null,
     "start_time": null,
     "status": "pending"
    },
    "tags": []
   },
   "source": [
    "### Use count plot of age to see the frequency of each age."
   ]
  },
  {
   "cell_type": "code",
   "execution_count": null,
   "id": "22b4758f",
   "metadata": {
    "execution": {
     "iopub.execute_input": "2023-11-22T13:04:19.595495Z",
     "iopub.status.busy": "2023-11-22T13:04:19.595122Z",
     "iopub.status.idle": "2023-11-22T13:04:19.806909Z",
     "shell.execute_reply": "2023-11-22T13:04:19.806093Z",
     "shell.execute_reply.started": "2023-11-22T13:04:19.595467Z"
    },
    "papermill": {
     "duration": null,
     "end_time": null,
     "exception": null,
     "start_time": null,
     "status": "pending"
    },
    "tags": []
   },
   "outputs": [],
   "source": [
    "sns.countplot(x='Age',data=df)"
   ]
  },
  {
   "cell_type": "markdown",
   "id": "708e9462",
   "metadata": {
    "papermill": {
     "duration": null,
     "end_time": null,
     "exception": null,
     "start_time": null,
     "status": "pending"
    },
    "tags": []
   },
   "source": [
    "### Use histplot to see the distribution of ages and ratings."
   ]
  },
  {
   "cell_type": "code",
   "execution_count": null,
   "id": "ebc0db10",
   "metadata": {
    "execution": {
     "iopub.execute_input": "2023-11-22T13:09:15.995342Z",
     "iopub.status.busy": "2023-11-22T13:09:15.995010Z",
     "iopub.status.idle": "2023-11-22T13:09:16.202284Z",
     "shell.execute_reply": "2023-11-22T13:09:16.201548Z",
     "shell.execute_reply.started": "2023-11-22T13:09:15.995317Z"
    },
    "papermill": {
     "duration": null,
     "end_time": null,
     "exception": null,
     "start_time": null,
     "status": "pending"
    },
    "tags": []
   },
   "outputs": [],
   "source": [
    "sns.histplot(df['Age'],kde=True)"
   ]
  },
  {
   "cell_type": "code",
   "execution_count": null,
   "id": "9a9ca201",
   "metadata": {
    "execution": {
     "iopub.execute_input": "2023-11-22T13:08:57.211878Z",
     "iopub.status.busy": "2023-11-22T13:08:57.211559Z",
     "iopub.status.idle": "2023-11-22T13:08:57.464548Z",
     "shell.execute_reply": "2023-11-22T13:08:57.463964Z",
     "shell.execute_reply.started": "2023-11-22T13:08:57.211855Z"
    },
    "papermill": {
     "duration": null,
     "end_time": null,
     "exception": null,
     "start_time": null,
     "status": "pending"
    },
    "tags": []
   },
   "outputs": [],
   "source": [
    "sns.histplot(df['Rating'],kde=True)"
   ]
  },
  {
   "cell_type": "code",
   "execution_count": null,
   "id": "f87134bc",
   "metadata": {
    "papermill": {
     "duration": null,
     "end_time": null,
     "exception": null,
     "start_time": null,
     "status": "pending"
    },
    "scrolled": true,
    "tags": []
   },
   "outputs": [],
   "source": []
  },
  {
   "cell_type": "markdown",
   "id": "fe19043b",
   "metadata": {
    "papermill": {
     "duration": null,
     "end_time": null,
     "exception": null,
     "start_time": null,
     "status": "pending"
    },
    "tags": []
   },
   "source": [
    "### Display the descriptive statistics of the dataframe"
   ]
  },
  {
   "cell_type": "code",
   "execution_count": null,
   "id": "7f95bc23",
   "metadata": {
    "execution": {
     "iopub.execute_input": "2023-11-22T13:12:54.503271Z",
     "iopub.status.busy": "2023-11-22T13:12:54.502947Z",
     "iopub.status.idle": "2023-11-22T13:12:54.513171Z",
     "shell.execute_reply": "2023-11-22T13:12:54.512276Z",
     "shell.execute_reply.started": "2023-11-22T13:12:54.503241Z"
    },
    "papermill": {
     "duration": null,
     "end_time": null,
     "exception": null,
     "start_time": null,
     "status": "pending"
    },
    "tags": []
   },
   "outputs": [],
   "source": [
    "df_frame=pd.DataFrame(df)\n",
    "df_frame"
   ]
  },
  {
   "cell_type": "code",
   "execution_count": null,
   "id": "1d8fdbd9",
   "metadata": {
    "execution": {
     "iopub.execute_input": "2023-11-22T13:13:30.593755Z",
     "iopub.status.busy": "2023-11-22T13:13:30.593438Z",
     "iopub.status.idle": "2023-11-22T13:13:30.607129Z",
     "shell.execute_reply": "2023-11-22T13:13:30.606202Z",
     "shell.execute_reply.started": "2023-11-22T13:13:30.593732Z"
    },
    "papermill": {
     "duration": null,
     "end_time": null,
     "exception": null,
     "start_time": null,
     "status": "pending"
    },
    "tags": []
   },
   "outputs": [],
   "source": [
    "df_frame.describe()"
   ]
  },
  {
   "cell_type": "code",
   "execution_count": null,
   "id": "b3e8fc61",
   "metadata": {
    "papermill": {
     "duration": null,
     "end_time": null,
     "exception": null,
     "start_time": null,
     "status": "pending"
    },
    "tags": []
   },
   "outputs": [],
   "source": []
  },
  {
   "cell_type": "markdown",
   "id": "4f790d81",
   "metadata": {
    "papermill": {
     "duration": null,
     "end_time": null,
     "exception": null,
     "start_time": null,
     "status": "pending"
    },
    "tags": []
   },
   "source": [
    "## Titanic Data Analysis\n",
    "[Titanic Data Set from Kaggle](https://www.kaggle.com/c/titanic). \n",
    "##### Features:\n",
    "- survival - Survival (0 = No; 1 = Yes)\n",
    "- pclass - Passenger Class (1 = 1st; 2 = 2nd; 3 = 3rd)\n",
    "- name - Name\n",
    "- sex - Sex\n",
    "- age - Age\n",
    "- sibsp - Number of Siblings/Spouses Aboard\n",
    "- parch - Number of Parents/Children Aboard\n",
    "- ticket - Ticket Number\n",
    "- fare - Passenger Fare\n",
    "- cabin - Cabin\n",
    "- embarked - Port of Embarkation (C = Cherbourg; Q = Queenstown; S = Southampton)"
   ]
  },
  {
   "cell_type": "markdown",
   "id": "0cb22e50",
   "metadata": {
    "papermill": {
     "duration": null,
     "end_time": null,
     "exception": null,
     "start_time": null,
     "status": "pending"
    },
    "tags": []
   },
   "source": [
    "### Read the Titanic.csv file into Pandas dataframe"
   ]
  },
  {
   "cell_type": "code",
   "execution_count": null,
   "id": "bb9290a1",
   "metadata": {
    "execution": {
     "iopub.execute_input": "2023-11-22T18:15:01.966404Z",
     "iopub.status.busy": "2023-11-22T18:15:01.965823Z",
     "iopub.status.idle": "2023-11-22T18:15:02.203903Z",
     "shell.execute_reply": "2023-11-22T18:15:02.202956Z",
     "shell.execute_reply.started": "2023-11-22T18:15:01.966357Z"
    },
    "papermill": {
     "duration": null,
     "end_time": null,
     "exception": null,
     "start_time": null,
     "status": "pending"
    },
    "tags": []
   },
   "outputs": [],
   "source": [
    "df_titanic=pd.read_csv('/kaggle/input/titanic/Titanic - Titanic.csv')"
   ]
  },
  {
   "cell_type": "markdown",
   "id": "0e8d9133",
   "metadata": {
    "papermill": {
     "duration": null,
     "end_time": null,
     "exception": null,
     "start_time": null,
     "status": "pending"
    },
    "tags": []
   },
   "source": [
    "### Display the info of the dataframe"
   ]
  },
  {
   "cell_type": "code",
   "execution_count": null,
   "id": "ba60f4eb",
   "metadata": {
    "execution": {
     "iopub.execute_input": "2023-11-22T17:00:11.146591Z",
     "iopub.status.busy": "2023-11-22T17:00:11.146174Z",
     "iopub.status.idle": "2023-11-22T17:00:11.185783Z",
     "shell.execute_reply": "2023-11-22T17:00:11.184305Z",
     "shell.execute_reply.started": "2023-11-22T17:00:11.146559Z"
    },
    "papermill": {
     "duration": null,
     "end_time": null,
     "exception": null,
     "start_time": null,
     "status": "pending"
    },
    "tags": []
   },
   "outputs": [],
   "source": [
    "df_titanic.info()"
   ]
  },
  {
   "cell_type": "markdown",
   "id": "938f196e",
   "metadata": {
    "papermill": {
     "duration": null,
     "end_time": null,
     "exception": null,
     "start_time": null,
     "status": "pending"
    },
    "tags": []
   },
   "source": [
    "### Display the descriptive statistics of the dataframe"
   ]
  },
  {
   "cell_type": "code",
   "execution_count": null,
   "id": "0d717423",
   "metadata": {
    "execution": {
     "iopub.execute_input": "2023-11-22T13:15:55.140190Z",
     "iopub.status.busy": "2023-11-22T13:15:55.139874Z",
     "iopub.status.idle": "2023-11-22T13:15:55.165513Z",
     "shell.execute_reply": "2023-11-22T13:15:55.164726Z",
     "shell.execute_reply.started": "2023-11-22T13:15:55.140163Z"
    },
    "papermill": {
     "duration": null,
     "end_time": null,
     "exception": null,
     "start_time": null,
     "status": "pending"
    },
    "tags": []
   },
   "outputs": [],
   "source": [
    "df_titanic.describe()"
   ]
  },
  {
   "cell_type": "markdown",
   "id": "38661900",
   "metadata": {
    "papermill": {
     "duration": null,
     "end_time": null,
     "exception": null,
     "start_time": null,
     "status": "pending"
    },
    "tags": []
   },
   "source": [
    "### Perform pairplot of the dataframe"
   ]
  },
  {
   "cell_type": "code",
   "execution_count": null,
   "id": "5ca772ce",
   "metadata": {
    "execution": {
     "iopub.execute_input": "2023-11-22T13:18:48.181867Z",
     "iopub.status.busy": "2023-11-22T13:18:48.181505Z",
     "iopub.status.idle": "2023-11-22T13:19:00.443912Z",
     "shell.execute_reply": "2023-11-22T13:19:00.443194Z",
     "shell.execute_reply.started": "2023-11-22T13:18:48.181839Z"
    },
    "papermill": {
     "duration": null,
     "end_time": null,
     "exception": null,
     "start_time": null,
     "status": "pending"
    },
    "tags": []
   },
   "outputs": [],
   "source": [
    "sns.pairplot(df_titanic)"
   ]
  },
  {
   "cell_type": "markdown",
   "id": "8ec369e8",
   "metadata": {
    "papermill": {
     "duration": null,
     "end_time": null,
     "exception": null,
     "start_time": null,
     "status": "pending"
    },
    "tags": []
   },
   "source": [
    "### Perform pairplot of the dataframe with hue='Survived'"
   ]
  },
  {
   "cell_type": "code",
   "execution_count": null,
   "id": "1f848f3f",
   "metadata": {
    "execution": {
     "iopub.execute_input": "2023-11-22T13:21:01.227355Z",
     "iopub.status.busy": "2023-11-22T13:21:01.227045Z",
     "iopub.status.idle": "2023-11-22T13:21:13.523169Z",
     "shell.execute_reply": "2023-11-22T13:21:13.522267Z",
     "shell.execute_reply.started": "2023-11-22T13:21:01.227331Z"
    },
    "papermill": {
     "duration": null,
     "end_time": null,
     "exception": null,
     "start_time": null,
     "status": "pending"
    },
    "tags": []
   },
   "outputs": [],
   "source": [
    "sns.pairplot(df_titanic,hue='Survived')"
   ]
  },
  {
   "cell_type": "markdown",
   "id": "eff97973",
   "metadata": {
    "papermill": {
     "duration": null,
     "end_time": null,
     "exception": null,
     "start_time": null,
     "status": "pending"
    },
    "tags": []
   },
   "source": [
    "### Use pie chart to see the percentage of Survived/Unservived people"
   ]
  },
  {
   "cell_type": "code",
   "execution_count": null,
   "id": "4d7a31a8",
   "metadata": {
    "execution": {
     "iopub.execute_input": "2023-11-22T18:15:08.550830Z",
     "iopub.status.busy": "2023-11-22T18:15:08.550363Z",
     "iopub.status.idle": "2023-11-22T18:15:08.582943Z",
     "shell.execute_reply": "2023-11-22T18:15:08.581783Z",
     "shell.execute_reply.started": "2023-11-22T18:15:08.550741Z"
    },
    "papermill": {
     "duration": null,
     "end_time": null,
     "exception": null,
     "start_time": null,
     "status": "pending"
    },
    "tags": []
   },
   "outputs": [],
   "source": [
    "df_titanic.head()"
   ]
  },
  {
   "cell_type": "code",
   "execution_count": null,
   "id": "aed40a24",
   "metadata": {
    "execution": {
     "iopub.execute_input": "2023-11-22T17:02:17.626256Z",
     "iopub.status.busy": "2023-11-22T17:02:17.625869Z",
     "iopub.status.idle": "2023-11-22T17:02:17.634940Z",
     "shell.execute_reply": "2023-11-22T17:02:17.633173Z",
     "shell.execute_reply.started": "2023-11-22T17:02:17.626209Z"
    },
    "papermill": {
     "duration": null,
     "end_time": null,
     "exception": null,
     "start_time": null,
     "status": "pending"
    },
    "tags": []
   },
   "outputs": [],
   "source": [
    "values=df_titanic['Survived'].value_counts()\n",
    "values"
   ]
  },
  {
   "cell_type": "code",
   "execution_count": null,
   "id": "d2cfed77",
   "metadata": {
    "execution": {
     "iopub.execute_input": "2023-11-22T17:02:32.615403Z",
     "iopub.status.busy": "2023-11-22T17:02:32.614915Z",
     "iopub.status.idle": "2023-11-22T17:02:32.624612Z",
     "shell.execute_reply": "2023-11-22T17:02:32.622297Z",
     "shell.execute_reply.started": "2023-11-22T17:02:32.615358Z"
    },
    "papermill": {
     "duration": null,
     "end_time": null,
     "exception": null,
     "start_time": null,
     "status": "pending"
    },
    "tags": []
   },
   "outputs": [],
   "source": [
    "labels=df_titanic['Survived'].unique()\n",
    "labels"
   ]
  },
  {
   "cell_type": "code",
   "execution_count": null,
   "id": "b500dad2",
   "metadata": {
    "execution": {
     "iopub.execute_input": "2023-11-22T17:05:18.527895Z",
     "iopub.status.busy": "2023-11-22T17:05:18.526539Z",
     "iopub.status.idle": "2023-11-22T17:05:18.668874Z",
     "shell.execute_reply": "2023-11-22T17:05:18.667891Z",
     "shell.execute_reply.started": "2023-11-22T17:05:18.527849Z"
    },
    "papermill": {
     "duration": null,
     "end_time": null,
     "exception": null,
     "start_time": null,
     "status": "pending"
    },
    "tags": []
   },
   "outputs": [],
   "source": [
    "plt.pie(values,labels=labels,autopct='%1.1f%%')"
   ]
  },
  {
   "cell_type": "markdown",
   "id": "de64f7cb",
   "metadata": {
    "papermill": {
     "duration": null,
     "end_time": null,
     "exception": null,
     "start_time": null,
     "status": "pending"
    },
    "tags": []
   },
   "source": [
    "### Use pie chart to see the percentage of Passenger Class (Pclass)"
   ]
  },
  {
   "cell_type": "code",
   "execution_count": null,
   "id": "84a1144d",
   "metadata": {
    "execution": {
     "iopub.execute_input": "2023-11-22T17:08:15.020136Z",
     "iopub.status.busy": "2023-11-22T17:08:15.019734Z",
     "iopub.status.idle": "2023-11-22T17:08:15.028563Z",
     "shell.execute_reply": "2023-11-22T17:08:15.027337Z",
     "shell.execute_reply.started": "2023-11-22T17:08:15.020100Z"
    },
    "papermill": {
     "duration": null,
     "end_time": null,
     "exception": null,
     "start_time": null,
     "status": "pending"
    },
    "tags": []
   },
   "outputs": [],
   "source": [
    "labels=df_titanic['Pclass'].unique()\n",
    "labels"
   ]
  },
  {
   "cell_type": "code",
   "execution_count": null,
   "id": "a224ec53",
   "metadata": {
    "execution": {
     "iopub.execute_input": "2023-11-22T17:07:50.540698Z",
     "iopub.status.busy": "2023-11-22T17:07:50.540201Z",
     "iopub.status.idle": "2023-11-22T17:07:50.551699Z",
     "shell.execute_reply": "2023-11-22T17:07:50.549706Z",
     "shell.execute_reply.started": "2023-11-22T17:07:50.540662Z"
    },
    "papermill": {
     "duration": null,
     "end_time": null,
     "exception": null,
     "start_time": null,
     "status": "pending"
    },
    "tags": []
   },
   "outputs": [],
   "source": [
    "values=df_titanic['Pclass'].value_counts()\n",
    "values"
   ]
  },
  {
   "cell_type": "code",
   "execution_count": null,
   "id": "c9a3a219",
   "metadata": {
    "execution": {
     "iopub.execute_input": "2023-11-22T17:08:33.832630Z",
     "iopub.status.busy": "2023-11-22T17:08:33.832204Z",
     "iopub.status.idle": "2023-11-22T17:08:33.944638Z",
     "shell.execute_reply": "2023-11-22T17:08:33.942576Z",
     "shell.execute_reply.started": "2023-11-22T17:08:33.832598Z"
    },
    "papermill": {
     "duration": null,
     "end_time": null,
     "exception": null,
     "start_time": null,
     "status": "pending"
    },
    "tags": []
   },
   "outputs": [],
   "source": [
    "plt.pie(values,labels=labels,autopct='%1.1f%%')"
   ]
  },
  {
   "cell_type": "markdown",
   "id": "2aa0f8ea",
   "metadata": {
    "papermill": {
     "duration": null,
     "end_time": null,
     "exception": null,
     "start_time": null,
     "status": "pending"
    },
    "tags": []
   },
   "source": [
    "### Use count plot to display  how many people survived vs. unservived"
   ]
  },
  {
   "cell_type": "code",
   "execution_count": null,
   "id": "ce6985ea",
   "metadata": {
    "execution": {
     "iopub.execute_input": "2023-11-22T17:11:17.100811Z",
     "iopub.status.busy": "2023-11-22T17:11:17.100370Z",
     "iopub.status.idle": "2023-11-22T17:11:17.283031Z",
     "shell.execute_reply": "2023-11-22T17:11:17.280927Z",
     "shell.execute_reply.started": "2023-11-22T17:11:17.100781Z"
    },
    "papermill": {
     "duration": null,
     "end_time": null,
     "exception": null,
     "start_time": null,
     "status": "pending"
    },
    "tags": []
   },
   "outputs": [],
   "source": [
    "sns.countplot(x='Survived',data=df_titanic)"
   ]
  },
  {
   "cell_type": "markdown",
   "id": "2f80a06c",
   "metadata": {
    "papermill": {
     "duration": null,
     "end_time": null,
     "exception": null,
     "start_time": null,
     "status": "pending"
    },
    "tags": []
   },
   "source": [
    "### Use count plot to display  how many people survived vs. unservived categorized by gender (sex)"
   ]
  },
  {
   "cell_type": "code",
   "execution_count": null,
   "id": "fdaa2399",
   "metadata": {
    "execution": {
     "iopub.execute_input": "2023-11-22T17:12:55.185490Z",
     "iopub.status.busy": "2023-11-22T17:12:55.185051Z",
     "iopub.status.idle": "2023-11-22T17:12:55.389341Z",
     "shell.execute_reply": "2023-11-22T17:12:55.387648Z",
     "shell.execute_reply.started": "2023-11-22T17:12:55.185453Z"
    },
    "papermill": {
     "duration": null,
     "end_time": null,
     "exception": null,
     "start_time": null,
     "status": "pending"
    },
    "tags": []
   },
   "outputs": [],
   "source": [
    "sns.countplot(x='Survived',data=df_titanic,hue='Sex')"
   ]
  },
  {
   "cell_type": "markdown",
   "id": "1ebb098e",
   "metadata": {
    "papermill": {
     "duration": null,
     "end_time": null,
     "exception": null,
     "start_time": null,
     "status": "pending"
    },
    "tags": []
   },
   "source": [
    "### Use count plot to display  how many people survived vs. unservived categorized by Pclass"
   ]
  },
  {
   "cell_type": "code",
   "execution_count": null,
   "id": "0b27a57f",
   "metadata": {
    "execution": {
     "iopub.execute_input": "2023-11-22T17:15:17.139237Z",
     "iopub.status.busy": "2023-11-22T17:15:17.138780Z",
     "iopub.status.idle": "2023-11-22T17:15:17.361495Z",
     "shell.execute_reply": "2023-11-22T17:15:17.359825Z",
     "shell.execute_reply.started": "2023-11-22T17:15:17.139204Z"
    },
    "papermill": {
     "duration": null,
     "end_time": null,
     "exception": null,
     "start_time": null,
     "status": "pending"
    },
    "tags": []
   },
   "outputs": [],
   "source": [
    "sns.countplot(x='Survived',data=df_titanic,hue='Pclass')"
   ]
  },
  {
   "cell_type": "markdown",
   "id": "ef0407c8",
   "metadata": {
    "papermill": {
     "duration": null,
     "end_time": null,
     "exception": null,
     "start_time": null,
     "status": "pending"
    },
    "tags": []
   },
   "source": [
    "### Check the distribution of Age"
   ]
  },
  {
   "cell_type": "code",
   "execution_count": null,
   "id": "974b571d",
   "metadata": {
    "execution": {
     "iopub.execute_input": "2023-11-22T18:15:36.888147Z",
     "iopub.status.busy": "2023-11-22T18:15:36.887643Z",
     "iopub.status.idle": "2023-11-22T18:15:37.297127Z",
     "shell.execute_reply": "2023-11-22T18:15:37.295929Z",
     "shell.execute_reply.started": "2023-11-22T18:15:36.888107Z"
    },
    "papermill": {
     "duration": null,
     "end_time": null,
     "exception": null,
     "start_time": null,
     "status": "pending"
    },
    "tags": []
   },
   "outputs": [],
   "source": [
    "sns.histplot(x= df_titanic['Age'])"
   ]
  },
  {
   "cell_type": "code",
   "execution_count": null,
   "id": "863a1ad0",
   "metadata": {
    "execution": {
     "iopub.execute_input": "2023-11-22T18:17:01.565090Z",
     "iopub.status.busy": "2023-11-22T18:17:01.564662Z",
     "iopub.status.idle": "2023-11-22T18:17:01.860517Z",
     "shell.execute_reply": "2023-11-22T18:17:01.859504Z",
     "shell.execute_reply.started": "2023-11-22T18:17:01.565053Z"
    },
    "papermill": {
     "duration": null,
     "end_time": null,
     "exception": null,
     "start_time": null,
     "status": "pending"
    },
    "tags": []
   },
   "outputs": [],
   "source": [
    "sns.boxplot(x='Pclass',y='Age',data=df_titanic, orient=\"v\")"
   ]
  },
  {
   "cell_type": "markdown",
   "id": "c703f269",
   "metadata": {
    "papermill": {
     "duration": null,
     "end_time": null,
     "exception": null,
     "start_time": null,
     "status": "pending"
    },
    "tags": []
   },
   "source": [
    "### Use box plot to display  the distribution of Age in each Pclass"
   ]
  },
  {
   "cell_type": "code",
   "execution_count": null,
   "id": "5496db41",
   "metadata": {
    "papermill": {
     "duration": null,
     "end_time": null,
     "exception": null,
     "start_time": null,
     "status": "pending"
    },
    "tags": []
   },
   "outputs": [],
   "source": []
  },
  {
   "cell_type": "markdown",
   "id": "2e3661db",
   "metadata": {
    "papermill": {
     "duration": null,
     "end_time": null,
     "exception": null,
     "start_time": null,
     "status": "pending"
    },
    "tags": []
   },
   "source": [
    "### Use box plot to display  the distribution of Age for survived/unservived passangers"
   ]
  },
  {
   "cell_type": "code",
   "execution_count": null,
   "id": "99852225",
   "metadata": {
    "execution": {
     "iopub.execute_input": "2023-11-22T18:19:03.752243Z",
     "iopub.status.busy": "2023-11-22T18:19:03.751857Z",
     "iopub.status.idle": "2023-11-22T18:19:04.016270Z",
     "shell.execute_reply": "2023-11-22T18:19:04.015233Z",
     "shell.execute_reply.started": "2023-11-22T18:19:03.752212Z"
    },
    "papermill": {
     "duration": null,
     "end_time": null,
     "exception": null,
     "start_time": null,
     "status": "pending"
    },
    "tags": []
   },
   "outputs": [],
   "source": [
    "sns.boxplot(x='Survived',y='Age',data=df_titanic, orient=\"v\")"
   ]
  },
  {
   "cell_type": "markdown",
   "id": "d6062480",
   "metadata": {
    "papermill": {
     "duration": null,
     "end_time": null,
     "exception": null,
     "start_time": null,
     "status": "pending"
    },
    "tags": []
   },
   "source": [
    "### Display the distribution of the ticket fare (Fare)"
   ]
  },
  {
   "cell_type": "code",
   "execution_count": null,
   "id": "099b1c9e",
   "metadata": {
    "papermill": {
     "duration": null,
     "end_time": null,
     "exception": null,
     "start_time": null,
     "status": "pending"
    },
    "tags": []
   },
   "outputs": [],
   "source": []
  },
  {
   "cell_type": "code",
   "execution_count": null,
   "id": "a89d0cc1",
   "metadata": {
    "execution": {
     "iopub.execute_input": "2023-11-22T18:36:30.398872Z",
     "iopub.status.busy": "2023-11-22T18:36:30.398202Z",
     "iopub.status.idle": "2023-11-22T18:36:30.915007Z",
     "shell.execute_reply": "2023-11-22T18:36:30.913248Z",
     "shell.execute_reply.started": "2023-11-22T18:36:30.398789Z"
    },
    "papermill": {
     "duration": null,
     "end_time": null,
     "exception": null,
     "start_time": null,
     "status": "pending"
    },
    "tags": []
   },
   "outputs": [],
   "source": [
    "sns.histplot(x= df_titanic['Fare'])"
   ]
  },
  {
   "cell_type": "code",
   "execution_count": null,
   "id": "6c5614e7",
   "metadata": {
    "execution": {
     "iopub.execute_input": "2023-11-22T18:43:58.634379Z",
     "iopub.status.busy": "2023-11-22T18:43:58.633969Z",
     "iopub.status.idle": "2023-11-22T18:43:59.230393Z",
     "shell.execute_reply": "2023-11-22T18:43:59.229208Z",
     "shell.execute_reply.started": "2023-11-22T18:43:58.634345Z"
    },
    "papermill": {
     "duration": null,
     "end_time": null,
     "exception": null,
     "start_time": null,
     "status": "pending"
    },
    "tags": []
   },
   "outputs": [],
   "source": [
    "sns.histplot(x= df_titanic['Fare'],kde=True)"
   ]
  },
  {
   "cell_type": "markdown",
   "id": "f0c94f8b",
   "metadata": {
    "papermill": {
     "duration": null,
     "end_time": null,
     "exception": null,
     "start_time": null,
     "status": "pending"
    },
    "tags": []
   },
   "source": [
    "### Calculate the mean Fare"
   ]
  },
  {
   "cell_type": "code",
   "execution_count": null,
   "id": "f8e477ac",
   "metadata": {
    "execution": {
     "iopub.execute_input": "2023-11-22T18:38:05.448151Z",
     "iopub.status.busy": "2023-11-22T18:38:05.447788Z",
     "iopub.status.idle": "2023-11-22T18:38:05.456145Z",
     "shell.execute_reply": "2023-11-22T18:38:05.454915Z",
     "shell.execute_reply.started": "2023-11-22T18:38:05.448119Z"
    },
    "papermill": {
     "duration": null,
     "end_time": null,
     "exception": null,
     "start_time": null,
     "status": "pending"
    },
    "tags": []
   },
   "outputs": [],
   "source": [
    "mean_fare = df_titanic['Fare'].mean()\n",
    "mean_fare"
   ]
  },
  {
   "cell_type": "markdown",
   "id": "85a05579",
   "metadata": {
    "papermill": {
     "duration": null,
     "end_time": null,
     "exception": null,
     "start_time": null,
     "status": "pending"
    },
    "tags": []
   },
   "source": [
    "### Calculate the mode Fare"
   ]
  },
  {
   "cell_type": "code",
   "execution_count": null,
   "id": "a24fbaf3",
   "metadata": {
    "execution": {
     "iopub.execute_input": "2023-11-22T18:39:32.460442Z",
     "iopub.status.busy": "2023-11-22T18:39:32.460052Z",
     "iopub.status.idle": "2023-11-22T18:39:32.470281Z",
     "shell.execute_reply": "2023-11-22T18:39:32.468882Z",
     "shell.execute_reply.started": "2023-11-22T18:39:32.460409Z"
    },
    "papermill": {
     "duration": null,
     "end_time": null,
     "exception": null,
     "start_time": null,
     "status": "pending"
    },
    "tags": []
   },
   "outputs": [],
   "source": [
    "mode_fare = df_titanic['Fare'].mode()\n",
    "mode_fare"
   ]
  },
  {
   "cell_type": "markdown",
   "id": "900c4866",
   "metadata": {
    "papermill": {
     "duration": null,
     "end_time": null,
     "exception": null,
     "start_time": null,
     "status": "pending"
    },
    "tags": []
   },
   "source": [
    "### Calculate the median Fare"
   ]
  },
  {
   "cell_type": "code",
   "execution_count": null,
   "id": "64574b71",
   "metadata": {
    "execution": {
     "iopub.execute_input": "2023-11-22T18:40:04.609921Z",
     "iopub.status.busy": "2023-11-22T18:40:04.609526Z",
     "iopub.status.idle": "2023-11-22T18:40:04.619095Z",
     "shell.execute_reply": "2023-11-22T18:40:04.617816Z",
     "shell.execute_reply.started": "2023-11-22T18:40:04.609887Z"
    },
    "papermill": {
     "duration": null,
     "end_time": null,
     "exception": null,
     "start_time": null,
     "status": "pending"
    },
    "tags": []
   },
   "outputs": [],
   "source": [
    "median_fare = df_titanic['Fare'].median()\n",
    "median_fare"
   ]
  },
  {
   "cell_type": "markdown",
   "id": "7e02fe82",
   "metadata": {
    "papermill": {
     "duration": null,
     "end_time": null,
     "exception": null,
     "start_time": null,
     "status": "pending"
    },
    "tags": []
   },
   "source": [
    "### Calculate the min,max and quartiles of Fare"
   ]
  },
  {
   "cell_type": "code",
   "execution_count": null,
   "id": "6cc0f159",
   "metadata": {
    "execution": {
     "iopub.execute_input": "2023-11-22T18:50:01.722321Z",
     "iopub.status.busy": "2023-11-22T18:50:01.721926Z",
     "iopub.status.idle": "2023-11-22T18:50:01.733175Z",
     "shell.execute_reply": "2023-11-22T18:50:01.731803Z",
     "shell.execute_reply.started": "2023-11-22T18:50:01.722290Z"
    },
    "papermill": {
     "duration": null,
     "end_time": null,
     "exception": null,
     "start_time": null,
     "status": "pending"
    },
    "tags": []
   },
   "outputs": [],
   "source": [
    "min_fare = df_titanic['Fare'].min()\n",
    "min_fare\n",
    "max_fare = df_titanic['Fare'].max()\n",
    "max_fare\n",
    "q1 = df_titanic['Fare'].quantile(0.25)  \n",
    "median = df_titanic['Fare'].quantile(0.50)  \n",
    "q3 = df_titanic['Fare'].quantile(0.75)"
   ]
  },
  {
   "cell_type": "code",
   "execution_count": null,
   "id": "7b65fedb",
   "metadata": {
    "execution": {
     "iopub.execute_input": "2023-11-22T18:50:45.637050Z",
     "iopub.status.busy": "2023-11-22T18:50:45.636650Z",
     "iopub.status.idle": "2023-11-22T18:50:45.644714Z",
     "shell.execute_reply": "2023-11-22T18:50:45.643315Z",
     "shell.execute_reply.started": "2023-11-22T18:50:45.637016Z"
    },
    "papermill": {
     "duration": null,
     "end_time": null,
     "exception": null,
     "start_time": null,
     "status": "pending"
    },
    "tags": []
   },
   "outputs": [],
   "source": [
    "min_fare"
   ]
  },
  {
   "cell_type": "code",
   "execution_count": null,
   "id": "fb2ed837",
   "metadata": {
    "execution": {
     "iopub.execute_input": "2023-11-22T18:50:53.445921Z",
     "iopub.status.busy": "2023-11-22T18:50:53.445362Z",
     "iopub.status.idle": "2023-11-22T18:50:53.453160Z",
     "shell.execute_reply": "2023-11-22T18:50:53.451993Z",
     "shell.execute_reply.started": "2023-11-22T18:50:53.445877Z"
    },
    "papermill": {
     "duration": null,
     "end_time": null,
     "exception": null,
     "start_time": null,
     "status": "pending"
    },
    "tags": []
   },
   "outputs": [],
   "source": [
    "max_fare"
   ]
  },
  {
   "cell_type": "code",
   "execution_count": null,
   "id": "bfd3d8eb",
   "metadata": {
    "execution": {
     "iopub.execute_input": "2023-11-22T18:51:05.453448Z",
     "iopub.status.busy": "2023-11-22T18:51:05.453083Z",
     "iopub.status.idle": "2023-11-22T18:51:05.460886Z",
     "shell.execute_reply": "2023-11-22T18:51:05.459679Z",
     "shell.execute_reply.started": "2023-11-22T18:51:05.453419Z"
    },
    "papermill": {
     "duration": null,
     "end_time": null,
     "exception": null,
     "start_time": null,
     "status": "pending"
    },
    "tags": []
   },
   "outputs": [],
   "source": [
    "q1"
   ]
  },
  {
   "cell_type": "code",
   "execution_count": null,
   "id": "38f9a08b",
   "metadata": {
    "execution": {
     "iopub.execute_input": "2023-11-22T18:51:15.320376Z",
     "iopub.status.busy": "2023-11-22T18:51:15.319878Z",
     "iopub.status.idle": "2023-11-22T18:51:15.328778Z",
     "shell.execute_reply": "2023-11-22T18:51:15.327489Z",
     "shell.execute_reply.started": "2023-11-22T18:51:15.320330Z"
    },
    "papermill": {
     "duration": null,
     "end_time": null,
     "exception": null,
     "start_time": null,
     "status": "pending"
    },
    "tags": []
   },
   "outputs": [],
   "source": [
    "q3"
   ]
  },
  {
   "cell_type": "code",
   "execution_count": null,
   "id": "971166d2",
   "metadata": {
    "execution": {
     "iopub.execute_input": "2023-11-22T18:51:24.538357Z",
     "iopub.status.busy": "2023-11-22T18:51:24.537669Z",
     "iopub.status.idle": "2023-11-22T18:51:24.545567Z",
     "shell.execute_reply": "2023-11-22T18:51:24.544438Z",
     "shell.execute_reply.started": "2023-11-22T18:51:24.538306Z"
    },
    "papermill": {
     "duration": null,
     "end_time": null,
     "exception": null,
     "start_time": null,
     "status": "pending"
    },
    "tags": []
   },
   "outputs": [],
   "source": [
    "median"
   ]
  },
  {
   "cell_type": "markdown",
   "id": "50cae527",
   "metadata": {
    "papermill": {
     "duration": null,
     "end_time": null,
     "exception": null,
     "start_time": null,
     "status": "pending"
    },
    "tags": []
   },
   "source": [
    "### Display the distribution of the ticket fare (Fare) with mean, mode, and median"
   ]
  },
  {
   "cell_type": "code",
   "execution_count": null,
   "id": "8e669293",
   "metadata": {
    "execution": {
     "iopub.execute_input": "2023-11-22T19:07:09.801758Z",
     "iopub.status.busy": "2023-11-22T19:07:09.801345Z",
     "iopub.status.idle": "2023-11-22T19:07:10.778017Z",
     "shell.execute_reply": "2023-11-22T19:07:10.776628Z",
     "shell.execute_reply.started": "2023-11-22T19:07:09.801713Z"
    },
    "papermill": {
     "duration": null,
     "end_time": null,
     "exception": null,
     "start_time": null,
     "status": "pending"
    },
    "tags": []
   },
   "outputs": [],
   "source": [
    "plt.figure(figsize=(8, 6))\n",
    "plt.vlines(mode_fare, 0, 1000, colors='r', lw=2)\n",
    "plt.vlines(mean_fare, 0, 1000, colors='g', lw=2)\n",
    "plt.vlines(median_fare, 0, 1000, colors='b', lw=2)\n",
    "ax = sns.histplot(x=df_titanic['Fare'])\n"
   ]
  },
  {
   "cell_type": "code",
   "execution_count": null,
   "id": "b675c2bb",
   "metadata": {
    "papermill": {
     "duration": null,
     "end_time": null,
     "exception": null,
     "start_time": null,
     "status": "pending"
    },
    "tags": []
   },
   "outputs": [],
   "source": []
  },
  {
   "cell_type": "markdown",
   "id": "ade528cc",
   "metadata": {
    "papermill": {
     "duration": null,
     "end_time": null,
     "exception": null,
     "start_time": null,
     "status": "pending"
    },
    "tags": []
   },
   "source": [
    "### Display the distribution of the ticket fare (Fare) with histplot and boxplot"
   ]
  },
  {
   "cell_type": "code",
   "execution_count": null,
   "id": "eadd7617",
   "metadata": {
    "execution": {
     "iopub.execute_input": "2023-11-22T19:17:12.730153Z",
     "iopub.status.busy": "2023-11-22T19:17:12.729653Z",
     "iopub.status.idle": "2023-11-22T19:17:13.368458Z",
     "shell.execute_reply": "2023-11-22T19:17:13.367046Z",
     "shell.execute_reply.started": "2023-11-22T19:17:12.730113Z"
    },
    "papermill": {
     "duration": null,
     "end_time": null,
     "exception": null,
     "start_time": null,
     "status": "pending"
    },
    "tags": []
   },
   "outputs": [],
   "source": [
    "f, (ax_box, ax_hist) = plt.subplots(2, sharex=True, gridspec_kw={\"height_ratios\": (.15, .85)},\n",
    "                                    figsize=(10, 7))\n",
    " \n",
    "# assigning a graph to each ax\n",
    "sns.boxplot(x=df_titanic[\"Fare\"], ax=ax_box)\n",
    "sns.histplot(data=df_titanic, x=\"Fare\", ax=ax_hist)\n",
    " \n",
    "# Remove x axis name for the boxplot\n",
    "ax_box.set(xlabel='')\n",
    "# f.set_figheight(15)\n",
    "# f.set_figwidth(15)\n",
    "# plt.xlim(0,0.4*1e7)\n",
    "plt.show()"
   ]
  },
  {
   "cell_type": "markdown",
   "id": "aa18152d",
   "metadata": {
    "papermill": {
     "duration": null,
     "end_time": null,
     "exception": null,
     "start_time": null,
     "status": "pending"
    },
    "tags": []
   },
   "source": [
    "### Can you tell what kind of skewness of the Fare data?"
   ]
  },
  {
   "cell_type": "code",
   "execution_count": null,
   "id": "0e5f1df5",
   "metadata": {
    "papermill": {
     "duration": null,
     "end_time": null,
     "exception": null,
     "start_time": null,
     "status": "pending"
    },
    "tags": []
   },
   "outputs": [],
   "source": [
    "negative skweed"
   ]
  },
  {
   "cell_type": "markdown",
   "id": "d0f46171",
   "metadata": {
    "papermill": {
     "duration": null,
     "end_time": null,
     "exception": null,
     "start_time": null,
     "status": "pending"
    },
    "tags": []
   },
   "source": [
    "### Use any technique to convert the skewed data to unskewed data and replot\n",
    "##### Hint: Drop the rows with 0 fare."
   ]
  },
  {
   "cell_type": "code",
   "execution_count": null,
   "id": "01c33744",
   "metadata": {
    "execution": {
     "iopub.execute_input": "2023-11-22T19:18:04.069248Z",
     "iopub.status.busy": "2023-11-22T19:18:04.068803Z",
     "iopub.status.idle": "2023-11-22T19:18:04.090027Z",
     "shell.execute_reply": "2023-11-22T19:18:04.088813Z",
     "shell.execute_reply.started": "2023-11-22T19:18:04.069210Z"
    },
    "papermill": {
     "duration": null,
     "end_time": null,
     "exception": null,
     "start_time": null,
     "status": "pending"
    },
    "tags": []
   },
   "outputs": [],
   "source": [
    "df_titanic = df_titanic[df_titanic['Fare'] != 0]\n",
    "df_titanic.head()"
   ]
  },
  {
   "cell_type": "code",
   "execution_count": null,
   "id": "ea9de1fe",
   "metadata": {
    "execution": {
     "iopub.execute_input": "2023-11-22T19:18:25.074734Z",
     "iopub.status.busy": "2023-11-22T19:18:25.074315Z",
     "iopub.status.idle": "2023-11-22T19:18:25.676179Z",
     "shell.execute_reply": "2023-11-22T19:18:25.675066Z",
     "shell.execute_reply.started": "2023-11-22T19:18:25.074698Z"
    },
    "papermill": {
     "duration": null,
     "end_time": null,
     "exception": null,
     "start_time": null,
     "status": "pending"
    },
    "tags": []
   },
   "outputs": [],
   "source": [
    "f, (ax_box, ax_hist) = plt.subplots(2, sharex=True, gridspec_kw={\"height_ratios\": (.15, .85)},\n",
    "                                    figsize=(10, 7))\n",
    " \n",
    "# assigning a graph to each ax\n",
    "sns.boxplot(x=df_titanic[\"Fare\"], ax=ax_box)\n",
    "sns.histplot(data=df_titanic, x=\"Fare\", ax=ax_hist)\n",
    " \n",
    "# Remove x axis name for the boxplot\n",
    "ax_box.set(xlabel='')\n",
    "# f.set_figheight(15)\n",
    "# f.set_figwidth(15)\n",
    "# plt.xlim(0,0.4*1e7)\n",
    "plt.show()"
   ]
  },
  {
   "cell_type": "code",
   "execution_count": null,
   "id": "d1ea6932",
   "metadata": {
    "papermill": {
     "duration": null,
     "end_time": null,
     "exception": null,
     "start_time": null,
     "status": "pending"
    },
    "tags": []
   },
   "outputs": [],
   "source": []
  }
 ],
 "metadata": {
  "kaggle": {
   "accelerator": "none",
   "dataSources": [
    {
     "datasetId": 4034450,
     "sourceId": 7016869,
     "sourceType": "datasetVersion"
    },
    {
     "datasetId": 4041442,
     "sourceId": 7026995,
     "sourceType": "datasetVersion"
    }
   ],
   "dockerImageVersionId": 30587,
   "isGpuEnabled": false,
   "isInternetEnabled": false,
   "language": "python",
   "sourceType": "notebook"
  },
  "kernelspec": {
   "display_name": "Python 3",
   "language": "python",
   "name": "python3"
  },
  "language_info": {
   "codemirror_mode": {
    "name": "ipython",
    "version": 3
   },
   "file_extension": ".py",
   "mimetype": "text/x-python",
   "name": "python",
   "nbconvert_exporter": "python",
   "pygments_lexer": "ipython3",
   "version": "3.10.12"
  },
  "papermill": {
   "default_parameters": {},
   "duration": 12.95458,
   "end_time": "2023-11-22T19:21:53.554283",
   "environment_variables": {},
   "exception": true,
   "input_path": "__notebook__.ipynb",
   "output_path": "__notebook__.ipynb",
   "parameters": {},
   "start_time": "2023-11-22T19:21:40.599703",
   "version": "2.4.0"
  }
 },
 "nbformat": 4,
 "nbformat_minor": 5
}
